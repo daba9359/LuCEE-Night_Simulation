{
 "cells": [
  {
   "cell_type": "markdown",
   "metadata": {},
   "source": [
    "# LuSEE-Night Simulation\n",
    "#### David W. Barker\n",
    "## Purpose\n",
    "The purpose of this notebook is to create a LuSEE-Night simulation (end-to-end). There are two primary things being done in this simulation: 1) a simulated signal and 2) a large number of simulated signals with varying parameters that create the traning sets. You then see if your training set's eigen vectors can model the arbitrary simulated signal. That's the main goal."
   ]
  },
  {
   "cell_type": "code",
   "execution_count": 2,
   "metadata": {},
   "outputs": [],
   "source": [
    "# boiler plate for most pylinex 21-cm stuff\n",
    "\n",
    "import h5py\n",
    "import numpy as np\n",
    "import matplotlib.pyplot as plt\n",
    "import scipy\n",
    "from pylinex import Fitter, BasisSum, PolynomialBasis\n",
    "import perses\n",
    "import py21cmfast as p21c\n",
    "from perses.models import PowerLawTimesPolynomialModel\n",
    "from pylinex import Basis\n",
    "import perses\n",
    "import ares\n",
    "import camb"
   ]
  },
  {
   "cell_type": "markdown",
   "metadata": {},
   "source": [
    "## The 21 cm Signal\n",
    "Our first step is to create a training set for the 21 cm signal. This should include not only differences in the cosmological parameters, but also phenomenological models of increase heating and cooling.\n",
    "\n",
    "### STEP 1: Code Up An Analytical Solution to the Dark Ages Signal.\n",
    "\n",
    "#### Step 1.1: Derive an analytical solution for the Dark Ages signal.\n",
    "We did this in our \"Derivations for Comps\" notebook, so let's repeat what we need here:\n",
    "\n",
    "- $\\delta T_{b}(\\nu)=\\frac{T_{b}(\\nu)-T_{\\gamma(\\nu)}}{1+z}$ (1)\n",
    "\n",
    "However, this is perhaps unneccesary (or very neccesary, not sure) so let's simplify to the following (UPDATE: Its super necessary. Use equation 18):\n",
    "\n",
    "- $\\delta T_{b} = T_{S} - T_{\\gamma}$ (2)\n",
    "\n",
    "where $T_{S}$ is the spin temperature and $T_{\\gamma}$ is the CMB temperature. Now lets start the process of expanding these terms out until we get to the point that we can plug in constants and code this up:\n",
    "\n",
    "- $T_{S} = \\frac{1+x_{c}}{{\\frac{1}{T_{\\gamma}}+\\frac{x_{c}}{T_{k}}}}$ (3)\n",
    "\n",
    "We have $T_{\\gamma}$:\n",
    "\n",
    "- $T_{\\gamma} = T_{\\gamma,0}(1+z) = 2.725(1+z)K $  (4)\n",
    "\n",
    "where z is our independent variable and $T_{\\gamma,0}$ = 2.725 K. Still need $x_{c}$ and $T_{k}$:\n",
    "\n",
    "- $x_{c}^{i}\\equiv \\frac{C_{10}^{i}}{A_{10}}\\frac{T_{\\star}}{T_{\\gamma}} = \\frac{n_{i}k_{10}^{i}}{A_{10}}\\frac{T_{\\star}}{T_{\\gamma}}$ (5)\n",
    "\n",
    "the i denotes the different collision species. The two we care about the most are other Hydrogen atoms and free electrons. There are other things like Helium (only ionized helium due to spin conservation) and Deuterium, but they are very minimal in their contribution. If we are way off with our calculation, this approximation doesn't seem a likely culprit, but it's good to keep in mind that it is, in fact, an approximation. So if we consider the two species:\n",
    "\n",
    "- $x_{c} = \\frac{T_{\\star}}{T_{\\gamma}A_{10}}(n_{H}\\kappa_{10}^{HH}+n_{e}\\kappa_{10}^{eH})$ (6)\n",
    "\n",
    "where $HH$ means collisions between hydrogen atoms and $eH$ means collisions between hydrogen and free electrons. We still need the $n$ 's: I don't love that I'm still ignoring Helium, even when considering number density, but I see that in the literature, so maybe it's okay to do.  If our signal is way off this might be a good place to start to correct approximations.\n",
    "\n",
    "- $n_{e} = n_{b}x_{e}$ (7)\n",
    "\n",
    "- $n_{H} = n_{b}(1-x_{e})$ (8)\n",
    "\n",
    "- $n_{b} = n_{b,0}(1+z)^{3} = 2.06 \\times 10^{-7}(1+z)^3$ $\\frac{baryons}{cm^{3}} $ (9)\n",
    "\n",
    "where $n_{b,0}=2.06 \\times 10^{-7}$ $\\frac{baryons}{cm^{3}} $ (10)\n",
    "\n",
    "We will grab $x_{e}$ from CosmoRec. Here are some important constants and formulas we know that will allow us to get to an $x_{c}$ that is actually programmable:\n",
    "\n",
    "- $A_{10} = 2.85 \\times 10^{-15}$ $s^{-1}$ (11)\n",
    "\n",
    "- $T_{\\star} = 0.068$ $K$ (12)\n",
    "\n",
    "- $\\kappa_{10}^{HH}$ will be interpolated from a table on pg. 29 of Furlanetto, et al. 2006b (13)\n",
    "\n",
    "- $\\kappa_{10}^{eH}$ will be interpolated from a table on pg. 30 of Furlanetto, et al. 2006b (14)\n",
    "\n",
    "And now we have all we need to get to something programmable:\n",
    "\n",
    "- $x_{c} = \\frac{T_{\\star}}{T_{\\gamma,0}(1+z)A_{10}}(n_{H}\\kappa_{10}^{HH}+n_{e}\\kappa_{10}^{eH})$ (15)\n",
    "\n",
    "- $T_{S} = \\frac{1+x_{c}}{{\\frac{1}{T_{\\gamma,0}(1+z)}+\\frac{x_{c}}{T_{k}}}}$ (16)\n",
    "\n",
    "- $\\frac{dT_{k}}{dt} = \\frac{x_{e}}{1+x_{e}}\\frac{(T_{\\gamma,0}(1+z)-T_{k})}{t_{c}}-2T_{k}H$ (17)\n",
    "\n",
    "This is the equation for $\\delta T_{b}$ that you have to use to get accurate results. You can't ignore the extinction of these signals as they travel to us.\n",
    "\n",
    "- $\\delta T_{b}(\\nu)\\approx 27x_{HI}(\\frac{h^{2}\\Omega_{b,0}}{0.023})[\\frac{0.15}{h^2\\Omega_{m,0}}\\frac{(1+z)}{10}]^{1/2}[1-\\frac{T_{\\gamma}(z)}{T_{S}}]mK$\n",
    "\n",
    "For our initial test, I'm not going to bother running any code for $T_{k}$ I'm going to let CosmoRec handle that. Once wer're confident everything else works, we can add in our own $T_{k}$ calculator so that we may add some phenomenological shananigans to it later on if we desire (and also prove I understand what's going on and can code it up).\n",
    "\n",
    "Okay, so let's code up equations 2, 15, and 16, and use CosmoRec for $T_{k}$ for now and see what we get."
   ]
  },
  {
   "cell_type": "code",
   "execution_count": 3,
   "metadata": {},
   "outputs": [],
   "source": [
    "# Parameters\n",
    "H0 = 67.36     # Hubble constant\n",
    "h = 0.6736\n",
    "omm = 0.3152   # Omega matter\n",
    "omb = 0.0493   # Omega baryons\n",
    "omc = 0.2645   # Omega cold dark matter\n",
    "z_array = np.arange(20,1100)\n",
    "n_b0 = 2.06e-7   #[baryons per cubic centimeter] This actually a function of Omega baryons, but I don't want to figure that out right now (just want to prove it works first).\n",
    "T_gamma0 = 2.725   # [Kelvin] modern CMB temperature\n",
    "T_star = 0.068    # [Kelvin] the temperature equivalent of the energy difference of the 21 cm hyperfine spin states\n",
    "A_10 = 2.85e-15    # [inverse seconds] Einstein coefficient for the spontaneous emission of the hyperfine spin states\n",
    "# Less neccesary (or at least less understood by me but needed by some code)\n",
    "As = 2.099e-9  # Amplitude of a power spectrum of adiabatic perturbations\n",
    "ns = 0.9649    # Spectra index of a power spectrum of adiabatic perturbations"
   ]
  },
  {
   "cell_type": "code",
   "execution_count": 4,
   "metadata": {},
   "outputs": [],
   "source": [
    "# x_e\n",
    "# for starters, I'm just going to use CosmoRec. We'll use camb later so it's more flawlessly integrated into python\n",
    "\n",
    "CosmoRec_raw=np.genfromtxt(\"CosmoRec.dat\")\n",
    "CosmoRec_xe = scipy.interpolate.interp1d(CosmoRec_raw.transpose()[0],CosmoRec_raw.transpose()[1])   # Needs a redshift argument\n",
    "CosmoRec_Tk = scipy.interpolate.interp1d(CosmoRec_raw.transpose()[0],CosmoRec_raw.transpose()[2])   # Needs a redshift argument\n",
    "\n",
    "# Alternative x_e:\n",
    "\n",
    "xe_alt = lambda z: 0*(z/z)"
   ]
  },
  {
   "cell_type": "code",
   "execution_count": 5,
   "metadata": {},
   "outputs": [],
   "source": [
    "### Here is the stuff that generally doesn't change\n",
    "\n",
    "## Here are the k tables from Furlanetto 2006b\n",
    "\n",
    "k_HH_raw = np.array([[1,1.38e-13],[2,1.43e-13],[4,2.71e-13],[6,6.60e-13],[8,1.47e-12],[10,2.88e-12],[15,9.10e-12],[20,1.78e-11],[25,2.73e-11],[30,3.67e-11],[40,5.38e-11],[50,6.86e-11],[60,8.14e-11],[70,9.25e-11],\\\n",
    "                 [80,1.02e-10],[90,1.11e-10],[100,1.19e-10],[200,1.75e-10],[300,2.09e-10],[500,2.56e-10],[700,2.91e-10],[1000,3.31e-10],[2000,4.27e-10],[3000,4.97e-10],[5000,6.03e-10]])\n",
    "k_eH_raw = np.array([[1, 2.39e-10],[2,3.37e-10],[5,5.30e-10],[10,7.46e-10],[20,1.05e-9],[50,1.63e-9],[100,2.26e-9],[200,3.11e-9],[500,4.59e-9],[1000,5.92e-9],[2000,7.15e-9],[3000,7.71e-9],[5000,8.17e-9]])\n",
    "\n",
    "# let's write a function that interpolates this table given whatever value we put in.\n",
    "k_HH = scipy.interpolate.CubicSpline(k_HH_raw.transpose()[0],k_HH_raw.transpose()[1])   # Needs a temperature (or array of temps) as an argument\n",
    "k_eH = scipy.interpolate.CubicSpline(k_eH_raw.transpose()[0],k_eH_raw.transpose()[1])   # Needs a temperature (or array of temps) as an argument\n",
    "\n",
    "## n_H and n_e\n",
    "\n",
    "n_H = lambda z,x_e: n_b0*(1+z)**3*(1-x_e(z))\n",
    "n_e = lambda z,x_e: n_b0*(1+z)**3*(x_e(z))\n"
   ]
  },
  {
   "cell_type": "code",
   "execution_count": 6,
   "metadata": {},
   "outputs": [],
   "source": [
    "# x_c\n",
    "x_c = lambda z,x_e,T_k: (T_star)/(T_gamma0*(1+z)*A_10)*(n_H(z,x_e)*k_HH(T_k(z)+n_e(z,x_e)))"
   ]
  },
  {
   "cell_type": "code",
   "execution_count": 7,
   "metadata": {},
   "outputs": [],
   "source": [
    "# T_S\n",
    "\n",
    "T_S = lambda z,x_e,T_k: (1+x_c(z,x_e,T_k))/((1/(T_gamma0*(1+z)))+(x_c(z,x_e,T_k)/T_k(z)))"
   ]
  },
  {
   "cell_type": "code",
   "execution_count": 8,
   "metadata": {},
   "outputs": [],
   "source": [
    "# But that's not the actual data. Need to include optical depth:\n",
    "\n",
    "dTb = lambda z,x_e,T_k: 27*(1-x_e(z))*((h**2*omb)/(0.023))*((0.15)/(h**2*omm))*((1+z)/(10))**(1/2)*(1-((T_gamma0*(1+z))/(T_S(z,x_e,T_k))))"
   ]
  },
  {
   "cell_type": "code",
   "execution_count": 9,
   "metadata": {},
   "outputs": [
    {
     "name": "stdout",
     "output_type": "stream",
     "text": [
      "# Loaded $ARES/input/inits/inits_planck_TTTEEE_lowl_lowE_best.txt.\n",
      "\n",
      "############################################################################\n",
      "##                       ARES Simulation: Overview                        ##\n",
      "############################################################################\n",
      "## ---------------------------------------------------------------------- ##\n",
      "## Source Populations                                                     ##\n",
      "## ---------------------------------------------------------------------- ##\n",
      "##           sfrd    sed  radio  O/IR  Lya    LW   LyC   Xray  RTE        ##\n",
      "## pop #0 :  fcoll    yes    -     -     x     x     -     -     -        ##\n",
      "## pop #1 : sfrd->0   yes    -     -     -     -     -     x     -        ##\n",
      "## pop #2 : sfrd->0   yes    -     -     -     -     x     -     -        ##\n",
      "## ---------------------------------------------------------------------- ##\n",
      "## Physics                                                                ##\n",
      "## ---------------------------------------------------------------------- ##\n",
      "## cgm_initial_temperature        : [10000.0]                             ##\n",
      "## clumping_factor                : 1                                     ##\n",
      "## secondary_ionization           : 1                                     ##\n",
      "## approx_Salpha                  : 1                                     ##\n",
      "## include_He                     : False                                 ##\n",
      "## feedback_LW                    : False                                 ##\n",
      "############################################################################\n",
      "# Loaded $ARES/input/hmf/hmf_ST_planck_TTTEEE_lowl_lowE_best_logM_1400_4-18_z_1201_0-60.hdf5.\n"
     ]
    }
   ],
   "source": [
    "# Now let's compare this to ARES:\n",
    "sim = ares.simulations.Global21cm()\n",
    "sim.run()\n",
    "ARES_redshift=sim.history[\"z\"]     # grabs ARES redshift\n",
    "ARES_dTb = sim.history[\"dTb\"]     # grabs ARES dTb\n",
    "ARES_dTb = np.delete(ARES_dTb,996)\n",
    "ARES_redshift = np.delete(ARES_redshift,996)   # this is a wierd point in ARES that stops the CubicSpline from working"
   ]
  },
  {
   "cell_type": "code",
   "execution_count": 10,
   "metadata": {},
   "outputs": [],
   "source": [
    "# Now let's compare to 21cmFAST\n",
    "\n",
    "# 21 cm FAST seems to not appreciate any z value (redshift) of 500 or more. Puts the lower limit of the \n",
    "# frequency at around 3 MHZ.  Ideal would be 1 MHz, but LuSEE-Night is at 5 MHz, so I suppose that will\n",
    "# be fine.  May want to look into getting that down to 1 somehow someday, but not right now.\n",
    "### for converting from redshift to frequency\n",
    "# frequencies_21cm = np.arange(3,200)  # avoiding anything below 2.5 MHZ\n",
    "# z = lambda f: 1420.4/f-1\n",
    "# z_array = np.array([])\n",
    "# for i in frequencies_21cm:\n",
    "#     element = z(i)\n",
    "#     z_array=np.append(z_array,element)\n",
    "# Now let's plug in the redshifts\n",
    "coeval_boxes = p21c.run_coeval(\n",
    "    redshift = list(z_array[0:450]),\n",
    "    user_params = {\"HII_DIM\": 100, \"BOX_LEN\": 100, \"USE_INTERPOLATION_TABLES\": True},\n",
    "    cosmo_params = p21c.CosmoParams(SIGMA_8=0.8159,hlittle=h,OMm=omm,OMb=omb,POWER_INDEX=ns),\n",
    "    astro_params = p21c.AstroParams(),\n",
    "    flag_options = {'USE_TS_FLUCT':True},\n",
    "    random_seed=12345)\n",
    "# Let's make our 21cm curve from the data!\n",
    "global21cm_array=np.array([])\n",
    "for i in range(len(z_array[0:450])):\n",
    "    element=coeval_boxes[i].brightness_temp.mean()\n",
    "    global21cm_array=np.append(global21cm_array,element)\n",
    "\n",
    "# This will plot our data over our frequencies_21cm / or z array (depending on what I'm doing)\n",
    "# fig=plt.figure(figsize=(20,5))\n",
    "# plt.plot(z_array[0:450],global21cm_array)\n",
    "# plt.xlabel(r'redshift',size=15)\n",
    "# plt.ylabel(r'Temperature Residual $\\delta T_{b} (mK)$',size=15)\n",
    "# plt.title(\"Global 21-cm Signal\", size = 20)\n",
    "# plt.show()"
   ]
  },
  {
   "cell_type": "code",
   "execution_count": null,
   "metadata": {},
   "outputs": [],
   "source": [
    "# plots ARES curve\n",
    "# plt.plot(ARES_redshift,ARES_dTb)\n",
    "# plt.xlim(1100,20)\n",
    "# plt.xscale(\"log\")\n",
    "# plt.ylim(-45,5)\n"
   ]
  },
  {
   "cell_type": "code",
   "execution_count": 11,
   "metadata": {},
   "outputs": [
    {
     "name": "stderr",
     "output_type": "stream",
     "text": [
      "<>:8: SyntaxWarning: invalid escape sequence '\\d'\n",
      "<>:8: SyntaxWarning: invalid escape sequence '\\d'\n",
      "/tmp/ipykernel_10872/952923514.py:8: SyntaxWarning: invalid escape sequence '\\d'\n",
      "  plt.ylabel(f\"$\\delta T_b$ $[mK]$\")\n"
     ]
    },
    {
     "data": {
      "text/plain": [
       "<matplotlib.legend.Legend at 0x7f3a7d9655b0>"
      ]
     },
     "execution_count": 11,
     "metadata": {},
     "output_type": "execute_result"
    },
    {
     "data": {
      "image/png": "[encoded data removed]",
      "text/plain": [
       "<Figure size 640x480 with 1 Axes>"
      ]
     },
     "metadata": {},
     "output_type": "display_data"
    }
   ],
   "source": [
    "plt.plot(z_array,dTb(z_array,CosmoRec_xe,CosmoRec_Tk),label=\"David's Analytical Code\")\n",
    "# plt.plot(ARES_redshift,ARES_dTb, label=\"ARES\")\n",
    "plt.plot(z_array[0:450],global21cm_array[0:450],label=\"21cmFAST\")\n",
    "plt.title(\"21 cm Dark Ages Signal\")\n",
    "# plt.axvline(85)\n",
    "plt.xscale(\"log\")\n",
    "plt.xlabel(\"redshift\")\n",
    "plt.ylabel(f\"$\\delta T_b$ $[mK]$\")\n",
    "plt.xlim(1100,20)\n",
    "plt.ylim(-50,0)\n",
    "plt.legend()"
   ]
  },
  {
   "cell_type": "code",
   "execution_count": null,
   "metadata": {},
   "outputs": [
    {
     "name": "stdout",
     "output_type": "stream",
     "text": [
      "David's code has a minimum of -43.82 mK at a redshift of 85 or a frequency of 16.51 MHz\n",
      "21cmFAST has a minimum of -43.13 mK at a redshift of 72 or a frequency of 19.45 MHz\n"
     ]
    },
    {
     "ename": "",
     "evalue": "",
     "output_type": "error",
     "traceback": [
      "\u001b[1;31mThe Kernel crashed while executing code in the current cell or a previous cell. \n",
      "\u001b[1;31mPlease review the code in the cell(s) to identify a possible cause of the failure. \n",
      "\u001b[1;31mClick <a href='https://aka.ms/vscodeJupyterKernelCrash'>here</a> for more info. \n",
      "\u001b[1;31mView Jupyter <a href='command:jupyter.viewOutput'>log</a> for further details."
     ]
    }
   ],
   "source": [
    "# Let's compare the minimums and the locations of the minimums:\n",
    "David_min=dTb(z_array,CosmoRec_xe,CosmoRec_Tk).min()\n",
    "David_redshift_min = z_array[np.where(dTb(z_array,CosmoRec_xe,CosmoRec_Tk)==David_min)]\n",
    "z_array[65]\n",
    "print(f\"David's code has a minimum of {David_min:.2f} mK at a redshift of {David_redshift_min[0]} or a frequency of {1420/(1+David_redshift_min[0]):.2f} MHz\")\n",
    "\n",
    "FAST_min = global21cm_array[15::].min()\n",
    "FAST_redshift_min = z_array[np.where(global21cm_array[15::]==FAST_min)]\n",
    "print(f\"21cmFAST has a minimum of {FAST_min:.2f} mK at a redshift of {FAST_redshift_min[0]} or a frequency of {1420/(1+FAST_redshift_min[0]):.2f} MHz\")"
   ]
  },
  {
   "cell_type": "code",
   "execution_count": null,
   "metadata": {},
   "outputs": [],
   "source": [
    "# I don't like that it's slightly different. Lets run another seed of 21cmFAST to see if it changes\n",
    "\n",
    "# Now let's compare to 21cmFAST\n",
    "\n",
    "# 21 cm FAST seems to not appreciate any z value (redshift) of 500 or more. Puts the lower limit of the \n",
    "# frequency at around 3 MHZ.  Ideal would be 1 MHz, but LuSEE-Night is at 5 MHz, so I suppose that will\n",
    "# be fine.  May want to look into getting that down to 1 somehow someday, but not right now.\n",
    "### for converting from redshift to frequency\n",
    "# frequencies_21cm = np.arange(3,200)  # avoiding anything below 2.5 MHZ\n",
    "# z = lambda f: 1420.4/f-1\n",
    "# z_array = np.array([])\n",
    "# for i in frequencies_21cm:\n",
    "#     element = z(i)\n",
    "#     z_array=np.append(z_array,element)\n",
    "# Now let's plug in the redshifts\n",
    "coeval_boxes = p21c.run_coeval(\n",
    "    redshift = list(z_array[0:450]),\n",
    "    user_params = {\"HII_DIM\": 100, \"BOX_LEN\": 100, \"USE_INTERPOLATION_TABLES\": True},\n",
    "    cosmo_params = p21c.CosmoParams(SIGMA_8=0.8159,hlittle=h,OMm=omm,OMb=omb,POWER_INDEX=ns),\n",
    "    astro_params = p21c.AstroParams(),\n",
    "    flag_options = {'USE_TS_FLUCT':True},\n",
    "    random_seed=7878)\n",
    "# Let's make our 21cm curve from the data!\n",
    "global21cm_array2=np.array([])\n",
    "for i in range(len(z_array[0:450])):\n",
    "    element=coeval_boxes[i].brightness_temp.mean()\n",
    "    global21cm_array2=np.append(global21cm_array2,element)"
   ]
  },
  {
   "cell_type": "markdown",
   "metadata": {},
   "source": [
    "Talk to Julian Munos University of Texas.  See if he is doing the same thing. Seems like he's doing some analytical model of the Dark Ages as well."
   ]
  },
  {
   "cell_type": "code",
   "execution_count": 98,
   "metadata": {},
   "outputs": [
    {
     "name": "stderr",
     "output_type": "stream",
     "text": [
      "<>:10: SyntaxWarning: invalid escape sequence '\\d'\n",
      "<>:10: SyntaxWarning: invalid escape sequence '\\d'\n",
      "/tmp/ipykernel_11939/2022319553.py:10: SyntaxWarning: invalid escape sequence '\\d'\n",
      "  plt.ylabel(f\"$\\delta T_b$ $[mK]$\")\n"
     ]
    },
    {
     "data": {
      "text/plain": [
       "<matplotlib.legend.Legend at 0x7f2e860dc530>"
      ]
     },
     "execution_count": 98,
     "metadata": {},
     "output_type": "execute_result"
    },
    {
     "data": {
      "image/png": "[encoded data removed]",
      "text/plain": [
       "<Figure size 640x480 with 1 Axes>"
      ]
     },
     "metadata": {},
     "output_type": "display_data"
    }
   ],
   "source": [
    "# Using alternative x_e model\n",
    "\n",
    "plt.plot(z_array,dTb(z_array,xe_alt,CosmoRec_Tk),label=\"David's Analytical Code\")\n",
    "# plt.plot(ARES_redshift,ARES_dTb, label=\"ARES\")\n",
    "plt.plot(z_array[0:450],global21cm_array[0:450],label=\"21cmFAST\")\n",
    "plt.title(\"21 cm Brightness Temperature Compared to CMB\")\n",
    "# plt.axvline(85)\n",
    "plt.xscale(\"log\")\n",
    "plt.xlabel(\"redshift\")\n",
    "plt.ylabel(f\"$\\delta T_b$ $[mK]$\")\n",
    "plt.xlim(1100,20)\n",
    "plt.ylim(-50,0)\n",
    "plt.legend()"
   ]
  },
  {
   "cell_type": "code",
   "execution_count": 99,
   "metadata": {},
   "outputs": [
    {
     "name": "stdout",
     "output_type": "stream",
     "text": [
      "David's code has a minimum of -43.83 mK at a redshift of 85 or a frequency of 16.51 MHz\n",
      "21cmFAST has a minimum of -43.13 mK at a redshift of 72 or a frequency of 19.45 MHz\n"
     ]
    }
   ],
   "source": [
    "# Let's compare the minimums and the locations of the minimums:\n",
    "David_min=dTb(z_array,xe_alt,CosmoRec_Tk).min()\n",
    "David_redshift_min = z_array[np.where(dTb(z_array,xe_alt,CosmoRec_Tk)==David_min)]\n",
    "z_array[65]\n",
    "print(f\"David's code has a minimum of {David_min:.2f} mK at a redshift of {David_redshift_min[0]} or a frequency of {1420/(1+David_redshift_min[0]):.2f} MHz\")\n",
    "\n",
    "FAST_min = global21cm_array[15::].min()\n",
    "FAST_redshift_min = z_array[np.where(global21cm_array[15::]==FAST_min)]\n",
    "print(f\"21cmFAST has a minimum of {FAST_min:.2f} mK at a redshift of {FAST_redshift_min[0]} or a frequency of {1420/(1+FAST_redshift_min[0]):.2f} MHz\")"
   ]
  },
  {
   "cell_type": "code",
   "execution_count": 24,
   "metadata": {},
   "outputs": [],
   "source": [
    "# This CosmoRec file is a temporary use. I'm not going to calculate T_k yet. I'll use something that I know is right first.  This also includes x_e.\n",
    "CosmoRec=np.genfromtxt(\"CosmoRec.dat\")\n"
   ]
  },
  {
   "cell_type": "code",
   "execution_count": 57,
   "metadata": {},
   "outputs": [
    {
     "data": {
      "text/plain": [
       "array([0.13180983])"
      ]
     },
     "execution_count": 57,
     "metadata": {},
     "output_type": "execute_result"
    }
   ],
   "source": [
    "# x_e using camb\n",
    "parameters_camb = camb.set_params(H0=H0, ombh2=omb*h**2, omch2=omc*h**2, As=As, ns=ns)\n",
    "camb_data= camb.get_background(parameters_camb)\n",
    "camb_xe = camb_data.get_background_redshift_evolution(z_array, [\"x_e\"], format=\"array\")\n",
    "\n",
    "camb_xe[1070]\n"
   ]
  },
  {
   "cell_type": "code",
   "execution_count": 64,
   "metadata": {},
   "outputs": [
    {
     "data": {
      "text/plain": [
       "[<matplotlib.lines.Line2D at 0x7f2eb07935c0>]"
      ]
     },
     "execution_count": 64,
     "metadata": {},
     "output_type": "execute_result"
    },
    {
     "data": {
      "image/png": "[encoded data removed]",
      "text/plain": [
       "<Figure size 640x480 with 1 Axes>"
      ]
     },
     "metadata": {},
     "output_type": "display_data"
    }
   ],
   "source": [
    "### I'm not going to mess with this just yet. It's a much better way to get x_e that doesn't require an outside program (all through python)\n",
    "\n",
    "#set_params is a shortcut routine for setting many things at once\n",
    "pars = camb.set_params(H0=H0, ombh2=omb*h**2, omch2=omc*h**2, As=As, ns=ns)\n",
    "data= camb.get_background(pars)\n",
    "#or as a function of redshift\n",
    "back_ev = data.get_background_redshift_evolution(z_array, ['x_e'], format='array')\n",
    "plt.plot(z_array,back_ev)"
   ]
  },
  {
   "cell_type": "code",
   "execution_count": 63,
   "metadata": {},
   "outputs": [
    {
     "data": {
      "text/plain": [
       "array([[0.00021222],\n",
       "       [0.00021332],\n",
       "       [0.00021441],\n",
       "       ...,\n",
       "       [0.14095743],\n",
       "       [0.14229813],\n",
       "       [0.14364732]])"
      ]
     },
     "execution_count": 63,
     "metadata": {},
     "output_type": "execute_result"
    }
   ],
   "source": [
    "back_ev[:]"
   ]
  },
  {
   "cell_type": "markdown",
   "metadata": {},
   "source": [
    "### OLD STEP 1: Change ARES Cosmological Parameters."
   ]
  },
  {
   "cell_type": "code",
   "execution_count": 7,
   "metadata": {},
   "outputs": [],
   "source": [
    "cosmology=ares.ares.physics.Cosmology()"
   ]
  },
  {
   "cell_type": "code",
   "execution_count": 8,
   "metadata": {},
   "outputs": [
    {
     "ename": "KeyError",
     "evalue": "'omega_m_0'",
     "output_type": "error",
     "traceback": [
      "\u001b[0;31m---------------------------------------------------------------------------\u001b[0m",
      "\u001b[0;31mKeyError\u001b[0m                                  Traceback (most recent call last)",
      "Cell \u001b[0;32mIn[8], line 2\u001b[0m\n\u001b[1;32m      1\u001b[0m cosmology\u001b[38;5;241m.\u001b[39m_planck_raw[\u001b[38;5;124m\"\u001b[39m\u001b[38;5;124mH0\u001b[39m\u001b[38;5;124m\"\u001b[39m] \u001b[38;5;241m=\u001b[39m \u001b[38;5;241m20\u001b[39m\n\u001b[0;32m----> 2\u001b[0m cosmology\u001b[38;5;241m.\u001b[39m_planck_raw[\u001b[38;5;124m\"\u001b[39m\u001b[38;5;124momega_m_0\u001b[39m\u001b[38;5;124m\"\u001b[39m]\n",
      "\u001b[0;31mKeyError\u001b[0m: 'omega_m_0'"
     ]
    }
   ],
   "source": [
    "cosmology._planck_raw[\"H0\"] = 20\n",
    "cosmology._planck_raw[\"omega_m_0\"]"
   ]
  },
  {
   "cell_type": "code",
   "execution_count": 23,
   "metadata": {},
   "outputs": [
    {
     "data": {
      "text/plain": [
       "20"
      ]
     },
     "execution_count": 23,
     "metadata": {},
     "output_type": "execute_result"
    }
   ],
   "source": [
    "cosmology._planck_raw[\"H0\"]"
   ]
  },
  {
   "cell_type": "code",
   "execution_count": 93,
   "metadata": {},
   "outputs": [],
   "source": [
    "# let's see if we can extract cooling rates:\n",
    "cooling_rates = np.array([])\n",
    "x_vals = np.arange(1,100,0.1)\n",
    "for i in x_vals:\n",
    "    element = cosmology.cooling_rate(i)\n",
    "    cooling_rates = np.append(cooling_rates,element)"
   ]
  },
  {
   "cell_type": "code",
   "execution_count": 94,
   "metadata": {},
   "outputs": [
    {
     "data": {
      "text/plain": [
       "[<matplotlib.lines.Line2D at 0x7f03f56c3e30>]"
      ]
     },
     "execution_count": 94,
     "metadata": {},
     "output_type": "execute_result"
    },
    {
     "data": {
      "image/png": "[encoded data removed]",
      "text/plain": [
       "<Figure size 640x480 with 1 Axes>"
      ]
     },
     "metadata": {},
     "output_type": "display_data"
    }
   ],
   "source": [
    "plt.plot(x_vals,cooling_rates)"
   ]
  },
  {
   "cell_type": "markdown",
   "metadata": {},
   "source": [
    "So from here we know how to extract the cooling rates, but can we reassign these rates and have ARES run a different sim?"
   ]
  },
  {
   "cell_type": "code",
   "execution_count": 3,
   "metadata": {},
   "outputs": [
    {
     "ename": "NameError",
     "evalue": "name 'cosmo_sig' is not defined",
     "output_type": "error",
     "traceback": [
      "\u001b[0;31m---------------------------------------------------------------------------\u001b[0m",
      "\u001b[0;31mNameError\u001b[0m                                 Traceback (most recent call last)",
      "Cell \u001b[0;32mIn[3], line 2\u001b[0m\n\u001b[1;32m      1\u001b[0m get_ipython()\u001b[38;5;241m.\u001b[39mrun_line_magic(\u001b[38;5;124m'\u001b[39m\u001b[38;5;124mpinfo\u001b[39m\u001b[38;5;124m'\u001b[39m, \u001b[38;5;124m'\u001b[39m\u001b[38;5;124mares.simulations.Global21cm\u001b[39m\u001b[38;5;124m'\u001b[39m)\n\u001b[0;32m----> 2\u001b[0m cosmo_sig\u001b[38;5;241m.\u001b[39mrun()\n",
      "\u001b[0;31mNameError\u001b[0m: name 'cosmo_sig' is not defined"
     ]
    },
    {
     "name": "stdout",
     "output_type": "stream",
     "text": [
      "\u001b[0;31mInit signature:\u001b[0m \u001b[0mares\u001b[0m\u001b[0;34m.\u001b[0m\u001b[0msimulations\u001b[0m\u001b[0;34m.\u001b[0m\u001b[0mGlobal21cm\u001b[0m\u001b[0;34m(\u001b[0m\u001b[0;34m**\u001b[0m\u001b[0mkwargs\u001b[0m\u001b[0;34m)\u001b[0m\u001b[0;34m\u001b[0m\u001b[0;34m\u001b[0m\u001b[0m\n",
      "\u001b[0;31mDocstring:\u001b[0m     \n",
      "This class must be inherited by another class, which need only have the\n",
      "``pf`` attribute.\n",
      "\n",
      "The three most (only) important parameters are:\n",
      "    blob_names\n",
      "    blob_ivars\n",
      "    blob_funcs\n",
      "    \n",
      "\u001b[0;31mInit docstring:\u001b[0m\n",
      "Set up a two-zone model for the global 21-cm signal.\n",
      "\n",
      "..note :: This is essentially a MultiPhaseMedium calculation, except\n",
      "    the Lyman alpha background and 21-cm background are calculated,\n",
      "    and alternative (phenomenological) parameterizations such as a\n",
      "    tanh for the ionization, thermal, and LW background evolution,\n",
      "    may be used.\n",
      "\u001b[0;31mFile:\u001b[0m           ~/ares/ares/simulations/Global21cm.py\n",
      "\u001b[0;31mType:\u001b[0m           type\n",
      "\u001b[0;31mSubclasses:\u001b[0m     "
     ]
    }
   ],
   "source": [
    "cosmo_sig=ares.simulations.Global21cm?\n",
    "cosmo_sig.run()"
   ]
  },
  {
   "cell_type": "code",
   "execution_count": null,
   "metadata": {},
   "outputs": [
    {
     "ename": "TypeError",
     "evalue": "'Cosmology' object is not subscriptable",
     "output_type": "error",
     "traceback": [
      "\u001b[0;31m---------------------------------------------------------------------------\u001b[0m",
      "\u001b[0;31mTypeError\u001b[0m                                 Traceback (most recent call last)",
      "Cell \u001b[0;32mIn[5], line 1\u001b[0m\n\u001b[0;32m----> 1\u001b[0m cosmo_sig\u001b[38;5;241m.\u001b[39mcosm[\u001b[38;5;124m\"\u001b[39m\u001b[38;5;124mH0\u001b[39m\u001b[38;5;124m\"\u001b[39m]\n",
      "\u001b[0;31mTypeError\u001b[0m: 'Cosmology' object is not subscriptable"
     ]
    }
   ],
   "source": [
    "cosmo_sig.cosm"
   ]
  },
  {
   "cell_type": "code",
   "execution_count": 3,
   "metadata": {},
   "outputs": [],
   "source": [
    "dTb=cosmo_sig.history[\"dTb\"][10]\n",
    "z=cosmo_sig.history[\"z\"]"
   ]
  },
  {
   "cell_type": "code",
   "execution_count": 4,
   "metadata": {},
   "outputs": [
    {
     "data": {
      "text/plain": [
       "-8.678422985589948e-06"
      ]
     },
     "execution_count": 4,
     "metadata": {},
     "output_type": "execute_result"
    }
   ],
   "source": [
    "dTb"
   ]
  },
  {
   "cell_type": "code",
   "execution_count": 6,
   "metadata": {},
   "outputs": [
    {
     "name": "stdout",
     "output_type": "stream",
     "text": [
      "\u001b[31mERROR: Could not find a version that satisfies the requirement pycamb (from versions: none)\u001b[0m\u001b[31m\n",
      "\u001b[0m\u001b[31mERROR: No matching distribution found for pycamb\u001b[0m\u001b[31m\n",
      "\u001b[0mNote: you may need to restart the kernel to use updated packages.\n"
     ]
    }
   ],
   "source": [
    "pip install pycamb"
   ]
  },
  {
   "cell_type": "code",
   "execution_count": 8,
   "metadata": {},
   "outputs": [],
   "source": [
    "import camb"
   ]
  },
  {
   "cell_type": "code",
   "execution_count": 9,
   "metadata": {},
   "outputs": [],
   "source": [
    "from hmf import MassFunction"
   ]
  },
  {
   "cell_type": "code",
   "execution_count": 11,
   "metadata": {},
   "outputs": [
    {
     "data": {
      "text/plain": [
       "hmf.alternatives.wdm.MassFunctionWDM"
      ]
     },
     "execution_count": 11,
     "metadata": {},
     "output_type": "execute_result"
    }
   ],
   "source": [
    "hmf.wdm.MassFunctionWDM"
   ]
  },
  {
   "cell_type": "code",
   "execution_count": 2,
   "metadata": {},
   "outputs": [],
   "source": [
    "def_kwargs = \\\n",
    "{\n",
    " \"hmf_model\": 'PS',\n",
    " \"hmf_logMmin\": 4,\n",
    " \"hmf_logMmax\": 18,\n",
    " \"hmf_dlogM\": 0.01,\n",
    "\n",
    " \"hmf_fmt\": 'hdf5',\n",
    " \"hmf_table\": None,\n",
    " \"hmf_wdm_mass\": None,\n",
    "\n",
    " #\"hmf_window\": 'sharpk',\n",
    "\n",
    " # Redshift sampling\n",
    " \"hmf_zmin\": 0.,\n",
    " \"hmf_zmax\": 60.,\n",
    " \"hmf_dz\": 0.05,\n",
    "\n",
    " # Can do constant timestep instead of constant dz\n",
    " #\"hmf_dt\": 1,\n",
    " #\"hmf_tmin\": 30.,\n",
    " #\"hmf_tmax\": 1000.,\n",
    "\n",
    " # Cosmology\n",
    " \"cosmology_id\": 'best',\n",
    " \"cosmology_name\": 'planck_TTTEEE_lowl_lowE',\n",
    "\n",
    " #HMF params and filter params are for doing Aurel Schneider's 2015 paper WDM.\n",
    " #\"hmf_params\" : {'a' : 1.0},\n",
    " #\"filter_params\" : {'c' : 2.5}\n",
    "\n",
    " #\"cosmology_id\": 'paul',\n",
    " #\"cosmology_name\": 'user',\n",
    " \"sigma_8\": 0.8159,\n",
    " 'primordial_index': 0.9652,\n",
    " 'omega_m_0': 0.315579,\n",
    " 'omega_b_0': 0.0491,\n",
    " 'hubble_0': 0.6726,\n",
    " 'omega_l_0': 1. - 0.315579,\n",
    "\n",
    "}\n",
    "\n",
    "##\n",
    "\n",
    "kwargs = def_kwargs.copy()\n",
    "\n",
    "hmf = ares.physics.HaloMassFunction(hmf_analytic=False,\n",
    "    hmf_load=False, **kwargs)"
   ]
  },
  {
   "cell_type": "code",
   "execution_count": 3,
   "metadata": {},
   "outputs": [],
   "source": [
    "import hmf"
   ]
  },
  {
   "cell_type": "code",
   "execution_count": null,
   "metadata": {},
   "outputs": [],
   "source": []
  }
 ],
 "metadata": {
  "kernelspec": {
   "display_name": "base",
   "language": "python",
   "name": "python3"
  },
  "language_info": {
   "codemirror_mode": {
    "name": "ipython",
    "version": 3
   },
   "file_extension": ".py",
   "mimetype": "text/x-python",
   "name": "python",
   "nbconvert_exporter": "python",
   "pygments_lexer": "ipython3",
   "version": "3.12.7"
  }
 },
 "nbformat": 4,
 "nbformat_minor": 2
}
