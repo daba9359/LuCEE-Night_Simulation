{
 "cells": [
  {
   "cell_type": "markdown",
   "metadata": {},
   "source": [
    "# LuSEE-Night Simulation\n",
    "#### David W. Barker\n",
    "## Purpose\n",
    "The purpose of this notebook is to create a LuSEE-Night simulation (end-to-end). There are two primary things being done in this simulation: 1) a simulated signal and 2) a large number of simulated signals with varying parameters that create the traning sets. You then see if your training set's eigen vectors can model the arbitrary simulated signal. That's the main goal."
   ]
  },
  {
   "cell_type": "code",
   "execution_count": 1,
   "metadata": {},
   "outputs": [],
   "source": [
    "# boiler plate for most pylinex 21-cm stuff\n",
    "\n",
    "import h5py\n",
    "import numpy as np\n",
    "import matplotlib.pyplot as plt\n",
    "import scipy\n",
    "from pylinex import Fitter, BasisSum, PolynomialBasis\n",
    "import perses\n",
    "import py21cmfast as p21c\n",
    "from perses.models import PowerLawTimesPolynomialModel\n",
    "from pylinex import Basis\n",
    "import perses\n",
    "import ares\n",
    "import camb"
   ]
  },
  {
   "cell_type": "markdown",
   "metadata": {},
   "source": [
    "## The 21 cm Signal\n",
    "Our first step is to create a training set for the 21 cm signal. This should include not only differences in the cosmological parameters, but also phenomenological models of increase heating and cooling.\n",
    "\n",
    "### STEP 1: Code Up An Analytical Solution to the Dark Ages Signal.\n",
    "\n",
    "#### Step 1.1: Derive an analytical solution for the Dark Ages signal.\n",
    "We did this in our \"Derivations for Comps\" notebook, so let's repeat what we need here:\n",
    "\n",
    "- $\\delta T_{b}(\\nu)=\\frac{T_{b}(\\nu)-T_{\\gamma(\\nu)}}{1+z}$ (1)\n",
    "\n",
    "However, this is perhaps unneccesary (or very neccesary, not sure) so let's simplify to the following (UPDATE: Its super necessary. Use equation 18):\n",
    "\n",
    "- $\\delta T_{b} = T_{S} - T_{\\gamma}$ (2)\n",
    "\n",
    "where $T_{S}$ is the spin temperature and $T_{\\gamma}$ is the CMB temperature. Now lets start the process of expanding these terms out until we get to the point that we can plug in constants and code this up:\n",
    "\n",
    "- $T_{S} = \\frac{1+x_{c}}{{\\frac{1}{T_{\\gamma}}+\\frac{x_{c}}{T_{k}}}}$ (3)\n",
    "\n",
    "We have $T_{\\gamma}$:\n",
    "\n",
    "- $T_{\\gamma} = T_{\\gamma,0}(1+z) = 2.725(1+z)K $  (4)\n",
    "\n",
    "where z is our independent variable and $T_{\\gamma,0}$ = 2.725 K. Still need $x_{c}$ and $T_{k}$:\n",
    "\n",
    "- $x_{c}^{i}\\equiv \\frac{C_{10}^{i}}{A_{10}}\\frac{T_{\\star}}{T_{\\gamma}} = \\frac{n_{i}k_{10}^{i}}{A_{10}}\\frac{T_{\\star}}{T_{\\gamma}}$ (5)\n",
    "\n",
    "the i denotes the different collision species. The two we care about the most are other Hydrogen atoms and free electrons. There are other things like Helium (only ionized helium due to spin conservation) and Deuterium, but they are very minimal in their contribution. If we are way off with our calculation, this approximation doesn't seem a likely culprit, but it's good to keep in mind that it is, in fact, an approximation. So if we consider the two species:\n",
    "\n",
    "- $x_{c} = \\frac{T_{\\star}}{T_{\\gamma}A_{10}}(n_{H}\\kappa_{10}^{HH}+n_{e}\\kappa_{10}^{eH})$ (6)\n",
    "\n",
    "where $HH$ means collisions between hydrogen atoms and $eH$ means collisions between hydrogen and free electrons. We still need the $n$ 's: I don't love that I'm still ignoring Helium, even when considering number density, but I see that in the literature, so maybe it's okay to do.  If our signal is way off this might be a good place to start to correct approximations.\n",
    "\n",
    "- $n_{e} = n_{b}x_{e}$ (7)\n",
    "\n",
    "- $n_{H} = n_{b}(1-x_{e})$ (8)\n",
    "\n",
    "- $n_{b} = n_{b,0}(1+z)^{3} = 2.06 \\times 10^{-7}(1+z)^3$ $\\frac{baryons}{cm^{3}} $ (9)\n",
    "\n",
    "where $n_{b,0}=2.06 \\times 10^{-7}$ $\\frac{baryons}{cm^{3}} $ (10)\n",
    "\n",
    "We will grab $x_{e}$ from CosmoRec. Here are some important constants and formulas we know that will allow us to get to an $x_{c}$ that is actually programmable:\n",
    "\n",
    "- $A_{10} = 2.85 \\times 10^{-15}$ $s^{-1}$ (11)\n",
    "\n",
    "- $T_{\\star} = 0.068$ $K$ (12)\n",
    "\n",
    "- $\\kappa_{10}^{HH}$ will be interpolated from a table on pg. 29 of Furlanetto, et al. 2006b (13)\n",
    "\n",
    "- $\\kappa_{10}^{eH}$ will be interpolated from a table on pg. 30 of Furlanetto, et al. 2006b (14)\n",
    "\n",
    "And now we have all we need to get to something programmable:\n",
    "\n",
    "- $x_{c} = \\frac{T_{\\star}}{T_{\\gamma,0}(1+z)A_{10}}(n_{H}\\kappa_{10}^{HH}+n_{e}\\kappa_{10}^{eH})$ (15)\n",
    "\n",
    "- $T_{S} = \\frac{1+x_{c}}{{\\frac{1}{T_{\\gamma,0}(1+z)}+\\frac{x_{c}}{T_{k}}}}$ (16)\n",
    "\n",
    "- $\\frac{dT_{k}}{dt} = \\frac{x_{e}}{1+x_{e}}\\frac{(T_{\\gamma,0}(1+z)-T_{k})}{t_{c}}-2T_{k}H$ (17)\n",
    "\n",
    "This is the equation for $\\delta T_{b}$ that you have to use to get accurate results. You can't ignore the extinction of these signals as they travel to us.\n",
    "\n",
    "- $\\delta T_{b}(\\nu)\\approx 27x_{HI}(\\frac{h^{2}\\Omega_{b,0}}{0.023})[\\frac{0.15}{h^2\\Omega_{m,0}}\\frac{(1+z)}{10}]^{1/2}[1-\\frac{T_{\\gamma}(z)}{T_{S}}]mK$\n",
    "\n",
    "For our initial test, I'm not going to bother running any code for $T_{k}$ I'm going to let CosmoRec handle that. Once wer're confident everything else works, we can add in our own $T_{k}$ calculator so that we may add some phenomenological shananigans to it later on if we desire (and also prove I understand what's going on and can code it up).\n",
    "\n",
    "Okay, so let's code up equations 2, 15, and 16, and use CosmoRec for $T_{k}$ for now and see what we get."
   ]
  },
  {
   "cell_type": "code",
   "execution_count": 105,
   "metadata": {},
   "outputs": [],
   "source": [
    "# Parameters  (Taking the Lambda CDM ones from Planck collaboration 2020 pg.19 (without BAO because of no real reason))\n",
    "H0 = 67.36     # Hubble constant\n",
    "h = H0/100     # H0\n",
    "omM0 = 0.3152   # Omega matter today\n",
    "omB0 = 0.0493   # Omega baryons today\n",
    "omK0 = 0        # Omega curvature today\n",
    "omC0 = 0.2645   # Omega cold dark matter today\n",
    "omR0 = 8.98e-5  # Omega radiation today\n",
    "omL0 = 0.6847   # Omega Dark Energy today\n",
    "z_array = np.arange(20,1100)\n",
    "n_b0 = 2.06e-7   #[baryons per cubic centimeter] This actually a function of Omega baryons, but I don't want to figure that out right now (just want to prove it works first).\n",
    "T_gamma0 = 2.725   # [Kelvin] modern CMB temperature\n",
    "T_star = 0.068    # [Kelvin] the temperature equivalent of the energy difference of the 21 cm hyperfine spin states\n",
    "A_10 = 2.85e-15    # [inverse seconds] Einstein coefficient for the spontaneous emission of the hyperfine spin states\n",
    "# Less neccesary (or at least less understood by me but needed by some code)\n",
    "As = 2.099e-9  # Amplitude of a power spectrum of adiabatic perturbations\n",
    "ns = 0.9649    # Spectra index of a power spectrum of adiabatic perturbations"
   ]
  },
  {
   "cell_type": "code",
   "execution_count": 106,
   "metadata": {},
   "outputs": [],
   "source": [
    "# x_e\n",
    "# for starters, I'm just going to use CosmoRec. We'll use camb later so it's more flawlessly integrated into python\n",
    "\n",
    "CosmoRec_raw=np.genfromtxt(\"CosmoRec.dat\")\n",
    "CosmoRec_xe = scipy.interpolate.interp1d(CosmoRec_raw.transpose()[0],CosmoRec_raw.transpose()[1])   # Needs a redshift argument\n",
    "CosmoRec_Tk = scipy.interpolate.interp1d(CosmoRec_raw.transpose()[0],CosmoRec_raw.transpose()[2])   # Needs a redshift argument\n",
    "\n",
    "# Alternative x_e:\n",
    "\n",
    "xe_alt = lambda z: 0*(z/z)\n",
    "\n",
    "# x_e using camb\n",
    "parameters_camb = camb.set_params(H0=H0, ombh2=omB0*h**2, omch2=omC0*h**2, As=As, ns=ns)\n",
    "camb_data= camb.get_background(parameters_camb)\n",
    "camb_xe = camb_data.get_background_redshift_evolution(z_array, [\"x_e\"], format=\"array\")\n",
    "# or if you want an interpolated version:\n",
    "camb_xe_interp = scipy.interpolate.CubicSpline(z_array,camb_xe.flatten())  # Needs a redshift argument"
   ]
  },
  {
   "cell_type": "code",
   "execution_count": 127,
   "metadata": {},
   "outputs": [],
   "source": [
    "# This is our custom T_k code\n",
    "\n",
    "def Tk (z_array):\n",
    "    \"\"\"Creates an array evolving the IGM temperature based on adiabatic cooling and compton scattering. Only works for the cosmic \n",
    "    Dark Ages, as it does not include UV\n",
    "    \n",
    "    ===================================================================\n",
    "    Parameters\n",
    "    ===================================================================\n",
    "    z_array: an array of increasing redshift values\n",
    "    ===================================================================\n",
    "    Output\n",
    "    ===================================================================\n",
    "    Tk_array:  A 2-D array with each entry being the redshift and IGM temperature\"\"\"\n",
    "### Let's code up T_k\n",
    "    num=len(z_array)\n",
    "    t_c = lambda z: 1.2e8*((1+z)/10)**(-4) * 3.154e7 #[seconds] timescale of compton scattering\n",
    "    T_gamma = lambda z: T_gamma0*(1+z)   # evolution of the CMB temp\n",
    "    H = lambda z: (H0*3.24078e-20)*(1+z)*np.sqrt(omR0*(1+z)**2+omM0*(1+z)+omK0+(omL0/((1+z)**2)))  # Hubble flow function with a conversion factor\n",
    "    # zlog = np.logspace(np.log10(z_array[0]),np.log10(z_array[-1]),num=num)[::-1]\n",
    "    # zlog = np.append(zlog,0)\n",
    "    zlog = z_array[::-1]\n",
    "    T = T_gamma(z_array[-1])   # your initial temperature at the highest redshift. This assumes it is coupled fully to the CMB at that time.\n",
    "    ze = z_array[-1]           # defines your starting z (useful for the loop below)\n",
    "    x_e = camb_xe_interp   # this is our model for fraction of free electrons\n",
    "    Tk_array = np.zeros((num-1,2))\n",
    "    for i in range(num-1):\n",
    "        zs = ze\n",
    "        ze = zlog[i+1]\n",
    "        adiabatic = lambda zs,T:(1/(H(zs)*(1+zs)))*(2*H(zs)*T)*(ze-zs)\n",
    "        compton = lambda zs,T: (1/(H(zs)*(1+zs)))*((x_e(zs))/(1+x_e(zs)))*((T_gamma(zs)-T)/(t_c(zs)))*(ze-zs)\n",
    "        T += adiabatic(zs,T)-compton(zs,T)    # This is where you would add the phenomenological cooling and heating parts\n",
    "        Tk_array[i][0] = ze\n",
    "        Tk_array[i][1] = T\n",
    "    Tk_function=scipy.interpolate.CubicSpline(Tk_array.transpose()[0][::-1],Tk_array.transpose()[1][::-1])  # Turns our output into a function with redshift as an argument    \n",
    "    return Tk_array, Tk_function"
   ]
  },
  {
   "cell_type": "code",
   "execution_count": 119,
   "metadata": {},
   "outputs": [],
   "source": [
    "# Runs my own T_k function for later input. Re run this when you change cosmological parameters\n",
    "z_array_Tk=np.arange(20,1100,0.001)     # this function needs a finer Tk because of some numerical instability (should look into that)\n",
    "My_Tk=Tk(z_array_Tk)"
   ]
  },
  {
   "cell_type": "code",
   "execution_count": 120,
   "metadata": {},
   "outputs": [],
   "source": [
    "### Here is the stuff that generally doesn't change\n",
    "\n",
    "## Here are the k tables from Furlanetto 2006b\n",
    "\n",
    "k_HH_raw = np.array([[1,1.38e-13],[2,1.43e-13],[4,2.71e-13],[6,6.60e-13],[8,1.47e-12],[10,2.88e-12],[15,9.10e-12],[20,1.78e-11],[25,2.73e-11],[30,3.67e-11],[40,5.38e-11],[50,6.86e-11],[60,8.14e-11],[70,9.25e-11],\\\n",
    "                 [80,1.02e-10],[90,1.11e-10],[100,1.19e-10],[200,1.75e-10],[300,2.09e-10],[500,2.56e-10],[700,2.91e-10],[1000,3.31e-10],[2000,4.27e-10],[3000,4.97e-10],[5000,6.03e-10]])\n",
    "k_eH_raw = np.array([[1, 2.39e-10],[2,3.37e-10],[5,5.30e-10],[10,7.46e-10],[20,1.05e-9],[50,1.63e-9],[100,2.26e-9],[200,3.11e-9],[500,4.59e-9],[1000,5.92e-9],[2000,7.15e-9],[3000,7.71e-9],[5000,8.17e-9]])\n",
    "\n",
    "# let's write a function that interpolates this table given whatever value we put in.\n",
    "k_HH = scipy.interpolate.CubicSpline(k_HH_raw.transpose()[0],k_HH_raw.transpose()[1])   # Needs a temperature (or array of temps) as an argument\n",
    "k_eH = scipy.interpolate.CubicSpline(k_eH_raw.transpose()[0],k_eH_raw.transpose()[1])   # Needs a temperature (or array of temps) as an argument\n",
    "\n",
    "## n_H and n_e\n",
    "\n",
    "n_H = lambda z,x_e: n_b0*(1+z)**3*(1-x_e(z))\n",
    "n_e = lambda z,x_e: n_b0*(1+z)**3*(x_e(z))\n"
   ]
  },
  {
   "cell_type": "code",
   "execution_count": 121,
   "metadata": {},
   "outputs": [],
   "source": [
    "# x_c\n",
    "x_c = lambda z,x_e,T_k: (T_star)/(T_gamma0*(1+z)*A_10)*(n_H(z,x_e)*k_HH(T_k(z)+n_e(z,x_e)))"
   ]
  },
  {
   "cell_type": "code",
   "execution_count": 122,
   "metadata": {},
   "outputs": [],
   "source": [
    "# T_S\n",
    "\n",
    "T_S = lambda z,x_e,T_k: (1+x_c(z,x_e,T_k))/((1/(T_gamma0*(1+z)))+(x_c(z,x_e,T_k)/T_k(z)))"
   ]
  },
  {
   "cell_type": "code",
   "execution_count": 123,
   "metadata": {},
   "outputs": [],
   "source": [
    "# But that's not the actual data. Need to include optical depth:\n",
    "\n",
    "dTb = lambda z,x_e,T_k: 27*(1-x_e(z))*((h**2*omB0)/(0.023))*((0.15)/(h**2*omM0))*((1+z)/(10))**(1/2)*(1-((T_gamma0*(1+z))/(T_S(z,x_e,T_k))))"
   ]
  },
  {
   "cell_type": "code",
   "execution_count": 64,
   "metadata": {},
   "outputs": [
    {
     "ename": "KeyboardInterrupt",
     "evalue": "",
     "output_type": "error",
     "traceback": [
      "\u001b[0;31m---------------------------------------------------------------------------\u001b[0m",
      "\u001b[0;31mKeyboardInterrupt\u001b[0m                         Traceback (most recent call last)",
      "Cell \u001b[0;32mIn[64], line 15\u001b[0m\n\u001b[1;32m      1\u001b[0m \u001b[38;5;66;03m# Now let's compare to 21cmFAST\u001b[39;00m\n\u001b[1;32m      2\u001b[0m \n\u001b[1;32m      3\u001b[0m \u001b[38;5;66;03m# 21 cm FAST seems to not appreciate any z value (redshift) of 500 or more. Puts the lower limit of the \u001b[39;00m\n\u001b[0;32m   (...)\u001b[0m\n\u001b[1;32m     12\u001b[0m \u001b[38;5;66;03m#     z_array=np.append(z_array,element)\u001b[39;00m\n\u001b[1;32m     13\u001b[0m \u001b[38;5;66;03m# Now let's plug in the redshifts\u001b[39;00m\n\u001b[1;32m     14\u001b[0m z_array_21cmfast\u001b[38;5;241m=\u001b[39mnp\u001b[38;5;241m.\u001b[39marange(\u001b[38;5;241m20\u001b[39m,\u001b[38;5;241m1100\u001b[39m)\n\u001b[0;32m---> 15\u001b[0m coeval_boxes \u001b[38;5;241m=\u001b[39m p21c\u001b[38;5;241m.\u001b[39mrun_coeval(\n\u001b[1;32m     16\u001b[0m     redshift \u001b[38;5;241m=\u001b[39m \u001b[38;5;28mlist\u001b[39m(z_array_21cmfast[\u001b[38;5;241m0\u001b[39m:\u001b[38;5;241m450\u001b[39m]),\n\u001b[1;32m     17\u001b[0m     user_params \u001b[38;5;241m=\u001b[39m {\u001b[38;5;124m\"\u001b[39m\u001b[38;5;124mHII_DIM\u001b[39m\u001b[38;5;124m\"\u001b[39m: \u001b[38;5;241m100\u001b[39m, \u001b[38;5;124m\"\u001b[39m\u001b[38;5;124mBOX_LEN\u001b[39m\u001b[38;5;124m\"\u001b[39m: \u001b[38;5;241m100\u001b[39m, \u001b[38;5;124m\"\u001b[39m\u001b[38;5;124mUSE_INTERPOLATION_TABLES\u001b[39m\u001b[38;5;124m\"\u001b[39m: \u001b[38;5;28;01mTrue\u001b[39;00m},\n\u001b[1;32m     18\u001b[0m     cosmo_params \u001b[38;5;241m=\u001b[39m p21c\u001b[38;5;241m.\u001b[39mCosmoParams(SIGMA_8\u001b[38;5;241m=\u001b[39m\u001b[38;5;241m0.8159\u001b[39m,hlittle\u001b[38;5;241m=\u001b[39mh,OMm\u001b[38;5;241m=\u001b[39momM0,OMb\u001b[38;5;241m=\u001b[39momB0,POWER_INDEX\u001b[38;5;241m=\u001b[39mns),\n\u001b[1;32m     19\u001b[0m     astro_params \u001b[38;5;241m=\u001b[39m p21c\u001b[38;5;241m.\u001b[39mAstroParams(),\n\u001b[1;32m     20\u001b[0m     flag_options \u001b[38;5;241m=\u001b[39m {\u001b[38;5;124m'\u001b[39m\u001b[38;5;124mUSE_TS_FLUCT\u001b[39m\u001b[38;5;124m'\u001b[39m:\u001b[38;5;28;01mTrue\u001b[39;00m},\n\u001b[1;32m     21\u001b[0m     random_seed\u001b[38;5;241m=\u001b[39m\u001b[38;5;241m12345\u001b[39m)\n\u001b[1;32m     22\u001b[0m \u001b[38;5;66;03m# Let's make our 21cm curve from the data!\u001b[39;00m\n\u001b[1;32m     23\u001b[0m global21cm_array\u001b[38;5;241m=\u001b[39mnp\u001b[38;5;241m.\u001b[39marray([])\n",
      "File \u001b[0;32m~/anaconda3/lib/python3.12/site-packages/py21cmfast/wrapper.py:2330\u001b[0m, in \u001b[0;36mrun_coeval\u001b[0;34m(redshift, user_params, cosmo_params, astro_params, flag_options, regenerate, write, direc, init_box, perturb, use_interp_perturb_field, pt_halos, random_seed, cleanup, hooks, always_purge, **global_kwargs)\u001b[0m\n\u001b[1;32m   2328\u001b[0m \u001b[38;5;28;01mfor\u001b[39;00m iz, z \u001b[38;5;129;01min\u001b[39;00m \u001b[38;5;28menumerate\u001b[39m(redshifts):\n\u001b[1;32m   2329\u001b[0m     pf2 \u001b[38;5;241m=\u001b[39m perturb[iz]\n\u001b[0;32m-> 2330\u001b[0m     pf2\u001b[38;5;241m.\u001b[39mload_all()\n\u001b[1;32m   2332\u001b[0m     \u001b[38;5;28;01mif\u001b[39;00m flag_options\u001b[38;5;241m.\u001b[39mUSE_TS_FLUCT:\n\u001b[1;32m   2333\u001b[0m         logger\u001b[38;5;241m.\u001b[39mdebug(\u001b[38;5;124mf\u001b[39m\u001b[38;5;124m\"\u001b[39m\u001b[38;5;124mDoing spin temp for z=\u001b[39m\u001b[38;5;132;01m{\u001b[39;00mz\u001b[38;5;132;01m}\u001b[39;00m\u001b[38;5;124m.\u001b[39m\u001b[38;5;124m\"\u001b[39m)\n",
      "File \u001b[0;32m~/anaconda3/lib/python3.12/site-packages/py21cmfast/_utils.py:867\u001b[0m, in \u001b[0;36mOutputStruct.load_all\u001b[0;34m(self)\u001b[0m\n\u001b[1;32m    865\u001b[0m \u001b[38;5;28;01mdef\u001b[39;00m \u001b[38;5;21mload_all\u001b[39m(\u001b[38;5;28mself\u001b[39m):\n\u001b[1;32m    866\u001b[0m \u001b[38;5;250m    \u001b[39m\u001b[38;5;124;03m\"\"\"Load all possible arrays into memory.\"\"\"\u001b[39;00m\n\u001b[0;32m--> 867\u001b[0m     \u001b[38;5;28mself\u001b[39m\u001b[38;5;241m.\u001b[39mprepare(flush\u001b[38;5;241m=\u001b[39m[])\n",
      "File \u001b[0;32m~/anaconda3/lib/python3.12/site-packages/py21cmfast/_utils.py:821\u001b[0m, in \u001b[0;36mOutputStruct.prepare\u001b[0;34m(self, flush, keep, force)\u001b[0m\n\u001b[1;32m    819\u001b[0m \u001b[38;5;66;03m# Accessing the array loads it into memory.\u001b[39;00m\n\u001b[1;32m    820\u001b[0m \u001b[38;5;28;01mfor\u001b[39;00m k \u001b[38;5;129;01min\u001b[39;00m keep:\n\u001b[0;32m--> 821\u001b[0m     \u001b[38;5;28mgetattr\u001b[39m(\u001b[38;5;28mself\u001b[39m, k)\n",
      "File \u001b[0;32m~/anaconda3/lib/python3.12/site-packages/py21cmfast/_utils.py:852\u001b[0m, in \u001b[0;36mOutputStruct.__getattr__\u001b[0;34m(self, item)\u001b[0m\n\u001b[1;32m    847\u001b[0m \u001b[38;5;28;01mif\u001b[39;00m \u001b[38;5;129;01mnot\u001b[39;00m \u001b[38;5;28mself\u001b[39m\u001b[38;5;241m.\u001b[39m_array_state[item]\u001b[38;5;241m.\u001b[39mon_disk:\n\u001b[1;32m    848\u001b[0m     \u001b[38;5;28;01mraise\u001b[39;00m \u001b[38;5;167;01mOSError\u001b[39;00m(\n\u001b[1;32m    849\u001b[0m         \u001b[38;5;124mf\u001b[39m\u001b[38;5;124m\"\u001b[39m\u001b[38;5;124mCannot get \u001b[39m\u001b[38;5;132;01m{\u001b[39;00mitem\u001b[38;5;132;01m}\u001b[39;00m\u001b[38;5;124m as it is not in memory, and this object is not cached to disk.\u001b[39m\u001b[38;5;124m\"\u001b[39m\n\u001b[1;32m    850\u001b[0m     )\n\u001b[0;32m--> 852\u001b[0m \u001b[38;5;28mself\u001b[39m\u001b[38;5;241m.\u001b[39mread(fname\u001b[38;5;241m=\u001b[39m\u001b[38;5;28mself\u001b[39m\u001b[38;5;241m.\u001b[39mpath, keys\u001b[38;5;241m=\u001b[39m[item])\n\u001b[1;32m    853\u001b[0m \u001b[38;5;28;01mreturn\u001b[39;00m \u001b[38;5;28mgetattr\u001b[39m(\u001b[38;5;28mself\u001b[39m, item)\n",
      "File \u001b[0;32m~/anaconda3/lib/python3.12/site-packages/py21cmfast/_utils.py:1172\u001b[0m, in \u001b[0;36mOutputStruct.read\u001b[0;34m(self, direc, fname, keys)\u001b[0m\n\u001b[1;32m   1170\u001b[0m \u001b[38;5;28mself\u001b[39m\u001b[38;5;241m.\u001b[39m_array_state[k]\u001b[38;5;241m.\u001b[39mon_disk \u001b[38;5;241m=\u001b[39m \u001b[38;5;28;01mTrue\u001b[39;00m\n\u001b[1;32m   1171\u001b[0m \u001b[38;5;28;01mif\u001b[39;00m k \u001b[38;5;129;01min\u001b[39;00m keys:\n\u001b[0;32m-> 1172\u001b[0m     \u001b[38;5;28msetattr\u001b[39m(\u001b[38;5;28mself\u001b[39m, k, boxes[k][\u001b[38;5;241m.\u001b[39m\u001b[38;5;241m.\u001b[39m\u001b[38;5;241m.\u001b[39m])\n\u001b[1;32m   1173\u001b[0m     \u001b[38;5;28mself\u001b[39m\u001b[38;5;241m.\u001b[39m_array_state[k]\u001b[38;5;241m.\u001b[39mcomputed_in_mem \u001b[38;5;241m=\u001b[39m \u001b[38;5;28;01mTrue\u001b[39;00m\n\u001b[1;32m   1174\u001b[0m     \u001b[38;5;28msetattr\u001b[39m(\u001b[38;5;28mself\u001b[39m\u001b[38;5;241m.\u001b[39m_cstruct, k, \u001b[38;5;28mself\u001b[39m\u001b[38;5;241m.\u001b[39m_ary2buf(\u001b[38;5;28mgetattr\u001b[39m(\u001b[38;5;28mself\u001b[39m, k)))\n",
      "File \u001b[0;32mh5py/_objects.pyx:54\u001b[0m, in \u001b[0;36mh5py._objects.with_phil.wrapper\u001b[0;34m()\u001b[0m\n",
      "File \u001b[0;32mh5py/_objects.pyx:55\u001b[0m, in \u001b[0;36mh5py._objects.with_phil.wrapper\u001b[0;34m()\u001b[0m\n",
      "File \u001b[0;32m~/anaconda3/lib/python3.12/site-packages/h5py/_hl/dataset.py:781\u001b[0m, in \u001b[0;36mDataset.__getitem__\u001b[0;34m(self, args, new_dtype)\u001b[0m\n\u001b[1;32m    779\u001b[0m \u001b[38;5;28;01mif\u001b[39;00m \u001b[38;5;28mself\u001b[39m\u001b[38;5;241m.\u001b[39m_fast_read_ok \u001b[38;5;129;01mand\u001b[39;00m (new_dtype \u001b[38;5;129;01mis\u001b[39;00m \u001b[38;5;28;01mNone\u001b[39;00m):\n\u001b[1;32m    780\u001b[0m     \u001b[38;5;28;01mtry\u001b[39;00m:\n\u001b[0;32m--> 781\u001b[0m         \u001b[38;5;28;01mreturn\u001b[39;00m \u001b[38;5;28mself\u001b[39m\u001b[38;5;241m.\u001b[39m_fast_reader\u001b[38;5;241m.\u001b[39mread(args)\n\u001b[1;32m    782\u001b[0m     \u001b[38;5;28;01mexcept\u001b[39;00m \u001b[38;5;167;01mTypeError\u001b[39;00m:\n\u001b[1;32m    783\u001b[0m         \u001b[38;5;28;01mpass\u001b[39;00m  \u001b[38;5;66;03m# Fall back to Python read pathway below\u001b[39;00m\n",
      "\u001b[0;31mKeyboardInterrupt\u001b[0m: "
     ]
    }
   ],
   "source": [
    "# Now let's compare to 21cmFAST\n",
    "\n",
    "# 21 cm FAST seems to not appreciate any z value (redshift) of 500 or more. Puts the lower limit of the \n",
    "# frequency at around 3 MHZ.  Ideal would be 1 MHz, but LuSEE-Night is at 5 MHz, so I suppose that will\n",
    "# be fine.  May want to look into getting that down to 1 somehow someday, but not right now.\n",
    "### for converting from redshift to frequency\n",
    "# frequencies_21cm = np.arange(3,200)  # avoiding anything below 2.5 MHZ\n",
    "# z = lambda f: 1420.4/f-1\n",
    "# z_array = np.array([])\n",
    "# for i in frequencies_21cm:\n",
    "#     element = z(i)\n",
    "#     z_array=np.append(z_array,element)\n",
    "# Now let's plug in the redshifts\n",
    "z_array_21cmfast=np.arange(20,1100)\n",
    "coeval_boxes = p21c.run_coeval(\n",
    "    redshift = list(z_array_21cmfast[0:450]),\n",
    "    user_params = {\"HII_DIM\": 100, \"BOX_LEN\": 100, \"USE_INTERPOLATION_TABLES\": True},\n",
    "    cosmo_params = p21c.CosmoParams(SIGMA_8=0.8159,hlittle=h,OMm=omM0,OMb=omB0,POWER_INDEX=ns),\n",
    "    astro_params = p21c.AstroParams(),\n",
    "    flag_options = {'USE_TS_FLUCT':True},\n",
    "    random_seed=12345)\n",
    "# Let's make our 21cm curve from the data!\n",
    "global21cm_array=np.array([])\n",
    "for i in range(len(z_array[0:450])):\n",
    "    element=coeval_boxes[i].brightness_temp.mean()\n",
    "    global21cm_array=np.append(global21cm_array,element)\n",
    "\n",
    "# This will plot our data over our frequencies_21cm / or z array (depending on what I'm doing)\n",
    "# fig=plt.figure(figsize=(20,5))\n",
    "# plt.plot(z_array[0:450],global21cm_array)\n",
    "# plt.xlabel(r'redshift',size=15)\n",
    "# plt.ylabel(r'Temperature Residual $\\delta T_{b} (mK)$',size=15)\n",
    "# plt.title(\"Global 21-cm Signal\", size = 20)\n",
    "# plt.show()"
   ]
  },
  {
   "cell_type": "code",
   "execution_count": null,
   "metadata": {},
   "outputs": [],
   "source": [
    " FAST_interp = scipy.interpolate.CubicSpline(z_array_21cmfast[0:450],global21cm_array)"
   ]
  },
  {
   "cell_type": "code",
   "execution_count": 125,
   "metadata": {},
   "outputs": [
    {
     "name": "stderr",
     "output_type": "stream",
     "text": [
      "<>:11: SyntaxWarning: invalid escape sequence '\\d'\n",
      "<>:11: SyntaxWarning: invalid escape sequence '\\d'\n",
      "/tmp/ipykernel_20692/4164223955.py:11: SyntaxWarning: invalid escape sequence '\\d'\n",
      "  plt.ylabel(f\"$\\delta T_b$ $[mK]$\")\n"
     ]
    },
    {
     "data": {
      "text/plain": [
       "<matplotlib.legend.Legend at 0x7f8b2f9fae40>"
      ]
     },
     "execution_count": 125,
     "metadata": {},
     "output_type": "execute_result"
    },
    {
     "data": {
      "image/png": "[encoded data removed]",
      "text/plain": [
       "<Figure size 640x480 with 1 Axes>"
      ]
     },
     "metadata": {},
     "output_type": "display_data"
    }
   ],
   "source": [
    "# comparison of my analytical code vs 21cmFAST\n",
    "\n",
    "plt.plot(z_array,dTb(z_array,camb_xe_interp,My_Tk[1]),label=\"David's Analytical Code\")\n",
    "# plt.plot(ARES_redshift,ARES_dTb, label=\"ARES\")\n",
    "plt.plot(z_array[15:300],FAST_interp(z_array[15:300]),label=\"21cmFAST\")\n",
    "# plt.plot(z_array,dTb(z_array,CosmoRec_xe,CosmoRec_Tk),label=\"CosmoRec Tk\")\n",
    "plt.title(\"21 cm Dark Ages Signal\")\n",
    "# plt.axvline(85)\n",
    "plt.xscale(\"log\")\n",
    "plt.xlabel(\"redshift\")\n",
    "plt.ylabel(f\"$\\delta T_b$ $[mK]$\")\n",
    "plt.xlim(1100,20)\n",
    "plt.ylim(-80,0)\n",
    "plt.legend()"
   ]
  },
  {
   "cell_type": "code",
   "execution_count": 74,
   "metadata": {},
   "outputs": [
    {
     "name": "stdout",
     "output_type": "stream",
     "text": [
      "David's code has a minimum of -76.78 mK at a redshift of 79 or a frequency of 17.75 MHz\n",
      "21cmFAST has a minimum of -43.13 mK at a redshift of 87 or a frequency of 16.14 MHz\n"
     ]
    }
   ],
   "source": [
    "# Let's compare the minimums and the locations of the minimums:\n",
    "David_min=dTb(z_array,CosmoRec_xe,My_Tk[1]).min()\n",
    "David_redshift_min = z_array[np.where(dTb(z_array,CosmoRec_xe,My_Tk[1])==David_min)]\n",
    "print(f\"David's code has a minimum of {David_min:.2f} mK at a redshift of {David_redshift_min[0]} or a frequency of {1420/(1+David_redshift_min[0]):.2f} MHz\")\n",
    "\n",
    "FAST_min = global21cm_array[15::].min()\n",
    "FAST_redshift_min = z_array_21cmfast[np.where(global21cm_array==FAST_min)]\n",
    "print(f\"21cmFAST has a minimum of {FAST_min:.2f} mK at a redshift of {FAST_redshift_min[0]} or a frequency of {1420/(1+FAST_redshift_min[0]):.2f} MHz\")"
   ]
  },
  {
   "cell_type": "code",
   "execution_count": null,
   "metadata": {},
   "outputs": [
    {
     "data": {
      "text/plain": [
       "-43.13478088378906"
      ]
     },
     "execution_count": 69,
     "metadata": {},
     "output_type": "execute_result"
    }
   ],
   "source": []
  },
  {
   "cell_type": "code",
   "execution_count": 64,
   "metadata": {},
   "outputs": [
    {
     "data": {
      "text/plain": [
       "[42]"
      ]
     },
     "execution_count": 64,
     "metadata": {},
     "output_type": "execute_result"
    }
   ],
   "source": [
    "[np.where(global21cm_array[25::]==FAST_min)[0][0]]"
   ]
  },
  {
   "cell_type": "code",
   "execution_count": 73,
   "metadata": {},
   "outputs": [
    {
     "name": "stderr",
     "output_type": "stream",
     "text": [
      "<>:10: SyntaxWarning: invalid escape sequence '\\d'\n",
      "<>:10: SyntaxWarning: invalid escape sequence '\\d'\n",
      "/tmp/ipykernel_15951/2714044071.py:10: SyntaxWarning: invalid escape sequence '\\d'\n",
      "  plt.ylabel(f\"$\\delta T_b$ $[mK]$\")\n"
     ]
    },
    {
     "data": {
      "text/plain": [
       "<matplotlib.legend.Legend at 0x7fed84625ee0>"
      ]
     },
     "execution_count": 73,
     "metadata": {},
     "output_type": "execute_result"
    },
    {
     "data": {
      "image/png": "[encoded data removed]",
      "text/plain": [
       "<Figure size 640x480 with 1 Axes>"
      ]
     },
     "metadata": {},
     "output_type": "display_data"
    }
   ],
   "source": [
    "# comparing CosmoRec_TK to my Tk code:\n",
    "\n",
    "plt.plot(z_array,dTb(z_array,camb_xe_interp,data[1]),label=\"David's Analytical Code\")\n",
    "# plt.plot(ARES_redshift,ARES_dTb, label=\"ARES\")\n",
    "plt.plot(z_array,dTb(z_array,CosmoRec_xe,CosmoRec_Tk),label=\"CosmoRec Tk\")\n",
    "plt.title(\"21 cm Dark Ages Signal\")\n",
    "# plt.axvline(85)\n",
    "plt.xscale(\"log\")\n",
    "plt.xlabel(\"redshift\")\n",
    "plt.ylabel(f\"$\\delta T_b$ $[mK]$\")\n",
    "plt.xlim(1100,20)\n",
    "plt.ylim(-50,0)\n",
    "plt.legend()"
   ]
  },
  {
   "cell_type": "markdown",
   "metadata": {},
   "source": [
    "Talk to Julian Munos University of Texas.  See if he is doing the same thing. Seems like he's doing some analytical model of the Dark Ages as well."
   ]
  },
  {
   "cell_type": "markdown",
   "metadata": {},
   "source": [
    "### Coding Up $T_{k}$ (Appendix)\n",
    "\n",
    "That's all well and good, but now let's code up a $T_{k}$ that doesn't rely on CosmoRec. Need to code up the following equations:\n",
    "\n",
    "- $\\frac{dT_{k}}{dz} = \\frac{1}{H(1+z)}[2T_{k}H-\\frac{x_{e}}{1+x_{e}}\\frac{(T_{\\gamma}-T_{k})}{t_{c}}] $ \n",
    "\n",
    "- $t_{c} = (\\frac{8}{3m_{e}c}\\sigma_{T}a_{rad}T_{\\gamma}^{4})^{-1} = 1.2 \\times 10^{8}(\\frac{1+z}{10})^{-4}$\n",
    "\n",
    "- $T_{\\gamma} = T_{\\gamma,0}(1+z)$\n",
    "\n",
    "- $H=H_{0}(1+z)\\sqrt{\\Omega_{0,\\gamma}(1+z)^{2}+\\Omega_{0,M}(1+z)+\\Omega_{0,K}+\\Omega_{0,\\Lambda}(1+z)^{-2}}$\n",
    "\n",
    "ISSUE #1: The reason compton heating wins out over adiabatic cooling is because the temperature will drop some amount, and THEN compton heating will kick in very quickly.  This means in order to perfectly numerically model this, your grid size would have to be unbelievably small.  Seriously, that compton heating is orders of magnitude more important only after a few milliKelvin degrees of change.\n",
    "\n",
    "SOLUTION #1: We can estimate this by comparing the two rates and just setting it equal to one or the other until some arbitrarily small difference between the two. I think this will work great as long as we allow for a very small difference to evolve the system."
   ]
  },
  {
   "cell_type": "code",
   "execution_count": 10,
   "metadata": {},
   "outputs": [],
   "source": [
    "\n",
    "\n",
    "def Tk (z_array):\n",
    "    \"\"\"Creates an array evolving the IGM temperature based on adiabatic cooling and compton scattering. Only works for the cosmic \n",
    "    Dark Ages, as it does not include UV\n",
    "    \n",
    "    ===================================================================\n",
    "    Parameters\n",
    "    ===================================================================\n",
    "    z_array: an array of increasing redshift values\n",
    "    ===================================================================\n",
    "    Output\n",
    "    ===================================================================\n",
    "    Tk_array:  A 2-D array with each entry being the redshift and IGM temperature\"\"\"\n",
    "### Let's code up T_k\n",
    "    num=len(z_array)\n",
    "    t_c = lambda z: 1.2e8*((1+z)/10)**(-4) * 3.154e7 #[seconds] timescale of compton scattering\n",
    "    T_gamma = lambda z: T_gamma0*(1+z)   # evolution of the CMB temp\n",
    "    H = lambda z: (H0*3.24078e-20)*(1+z)*np.sqrt(omR0*(1+z)**2+omM0*(1+z)+omK0+(omL0/((1+z)**2)))  # Hubble flow function with a conversion factor\n",
    "    # zlog = np.logspace(np.log10(z_array[0]),np.log10(z_array[-1]),num=num)[::-1]\n",
    "    # zlog = np.append(zlog,0)\n",
    "    zlog = z_array[::-1]\n",
    "    T = T_gamma(z_array[-1])   # your initial temperature at the highest redshift. This assumes it is coupled fully to the CMB at that time.\n",
    "    ze = z_array[-1]           # defines your starting z (useful for the loop below)\n",
    "    x_e = camb_xe_interp   # this is our model for fraction of free electrons\n",
    "    Tk_array = np.zeros((num-1,2))\n",
    "    for i in range(num-1):\n",
    "        zs = ze\n",
    "        ze = zlog[i+1]\n",
    "        adiabatic = lambda zs,T:(1/(H(zs)*(1+zs)))*(2*H(zs)*T)*(ze-zs)\n",
    "        compton = lambda zs,T: (1/(H(zs)*(1+zs)))*((x_e(zs))/(1+x_e(zs)))*((T_gamma(zs)-T)/(t_c(zs)))*(ze-zs)\n",
    "        T += adiabatic(zs,T)-compton(zs,T)\n",
    "        Tk_array[i][0] = ze\n",
    "        Tk_array[i][1] = T\n",
    "    Tk_function=scipy.interpolate.CubicSpline(Tk_array.transpose()[0][::-1],Tk_array.transpose()[1][::-1])  # Turns our output into a function with redshift as an argument    \n",
    "    return Tk_array, Tk_function\n",
    "\n"
   ]
  },
  {
   "cell_type": "markdown",
   "metadata": {},
   "source": [
    "Let's do some testing of this function against CosmoRec"
   ]
  },
  {
   "cell_type": "code",
   "execution_count": 11,
   "metadata": {},
   "outputs": [],
   "source": [
    "# let's test out a more finely gridded z_array\n",
    "z_array=np.arange(20,1100,0.001)\n",
    "data=Tk(z_array)\n"
   ]
  },
  {
   "cell_type": "code",
   "execution_count": 578,
   "metadata": {},
   "outputs": [
    {
     "data": {
      "text/plain": [
       "(108000,)"
      ]
     },
     "execution_count": 578,
     "metadata": {},
     "output_type": "execute_result"
    }
   ],
   "source": [
    "z_array.shape"
   ]
  },
  {
   "cell_type": "code",
   "execution_count": 628,
   "metadata": {},
   "outputs": [
    {
     "data": {
      "text/plain": [
       "Text(0.5, 0, 'redshift')"
      ]
     },
     "execution_count": 628,
     "metadata": {},
     "output_type": "execute_result"
    },
    {
     "data": {
      "image/png": "[encoded data removed]",
      "text/plain": [
       "<Figure size 640x480 with 1 Axes>"
      ]
     },
     "metadata": {},
     "output_type": "display_data"
    }
   ],
   "source": [
    "# let's compare our code to CosmoRec:\n",
    "# test1 = np.append(data.transpose()[1],9.45)\n",
    "plt.plot(z_array,CosmoRec_Tk(z_array)[::-1]-data[1](z_array[::-1]))\n",
    "plt.title(f\"David's Analytical $T_k$ vs CosmoRec $T_k$\")\n",
    "plt.xscale(\"log\")\n",
    "plt.ylabel(\"Kelvin\")\n",
    "plt.xlabel(\"redshift\")\n",
    "# plt.xlim(20,300)\n",
    "# plt.ylim(-1,0)"
   ]
  },
  {
   "cell_type": "code",
   "execution_count": 637,
   "metadata": {},
   "outputs": [
    {
     "data": {
      "text/plain": [
       "(20, 300)"
      ]
     },
     "execution_count": 637,
     "metadata": {},
     "output_type": "execute_result"
    },
    {
     "data": {
      "image/png": "[encoded data removed]",
      "text/plain": [
       "<Figure size 640x480 with 1 Axes>"
      ]
     },
     "metadata": {},
     "output_type": "display_data"
    }
   ],
   "source": [
    "# Zoom in\n",
    "# test1 = data.transpose()[1]\n",
    "# test1 = np.append(test1,9.47)  # just need to add some value to the end of our data to get it to the same size as CosmoRec\n",
    "plt.plot(z_array,CosmoRec_Tk(z_array)[::-1]-data[1](z_array[::-1]))\n",
    "plt.title(f\"David's Analytical $T_k$ vs CosmoRec $T_k$ Zoomed In\")\n",
    "plt.xscale(\"log\")\n",
    "plt.ylabel(\"Kelvin\")\n",
    "plt.xlabel(\"redshift\")\n",
    "plt.ylim(-0.01,0.01)\n",
    "plt.xlim(20,300)\n",
    "# plt.axvline(85)\n",
    "# plt.axhline(-0.0037)"
   ]
  },
  {
   "cell_type": "code",
   "execution_count": 538,
   "metadata": {},
   "outputs": [
    {
     "data": {
      "text/plain": [
       "array([ 0.02172553,  0.02526313,  0.02572261, ..., -0.22691964,\n",
       "       -0.22676254, -0.22578413])"
      ]
     },
     "execution_count": 538,
     "metadata": {},
     "output_type": "execute_result"
    }
   ],
   "source": [
    "CosmoRec_Tk(z_array)[::-1]-derp"
   ]
  },
  {
   "cell_type": "code",
   "execution_count": 544,
   "metadata": {},
   "outputs": [],
   "source": [
    "derp = data.transpose()[1]\n",
    "derp = np.append(derp,9.47)"
   ]
  },
  {
   "cell_type": "code",
   "execution_count": 249,
   "metadata": {},
   "outputs": [
    {
     "name": "stdout",
     "output_type": "stream",
     "text": [
      "-0.0023231838560757723\n"
     ]
    }
   ],
   "source": [
    "\n",
    "zlog = np.logspace(np.log10(z_array[0]),np.log10(z_array[-1]),num=1000)[::-1]\n",
    "xe_raw = camb_data.get_background_redshift_evolution(zlog, [\"x_e\"], format=\"array\")\n",
    "x_e = scipy.interpolate.interp1d(zlog,xe_raw.flatten())\n",
    "z = 1097\n",
    "T = 2990.775\n",
    "temp = lambda z: (1/(H(z)*(1+z)))*(2*H(z)*T-((x_e(z))/(1+x_e(z)))*((T_gamma(z)-T)/(t_c)))\n",
    "print(temp(z)-2*T_gamma0)\n"
   ]
  },
  {
   "cell_type": "code",
   "execution_count": null,
   "metadata": {},
   "outputs": [
    {
     "data": {
      "text/plain": [
       "2.724999999999909"
      ]
     },
     "execution_count": 239,
     "metadata": {},
     "output_type": "execute_result"
    }
   ],
   "source": []
  },
  {
   "cell_type": "code",
   "execution_count": null,
   "metadata": {},
   "outputs": [
    {
     "data": {
      "text/plain": [
       "array([0.00021222])"
      ]
     },
     "execution_count": 187,
     "metadata": {},
     "output_type": "execute_result"
    }
   ],
   "source": []
  },
  {
   "cell_type": "code",
   "execution_count": null,
   "metadata": {},
   "outputs": [
    {
     "name": "stderr",
     "output_type": "stream",
     "text": [
      "/tmp/ipykernel_588/2734760988.py:34: DeprecationWarning: Conversion of an array with ndim > 0 to a scalar is deprecated, and will error in future. Ensure you extract a single element from your array before performing this operation. (Deprecated NumPy 1.25.)\n",
      "  Tk_array[i][1] = T\n"
     ]
    },
    {
     "data": {
      "image/png": "[encoded data removed]",
      "text/plain": [
       "<Figure size 640x480 with 1 Axes>"
      ]
     },
     "metadata": {},
     "output_type": "display_data"
    }
   ],
   "source": [
    "plt.plot(Tk(z_array).transpose()[0],Tk(z_array).transpose()[1])\n",
    "plt.xscale(\"log\")\n"
   ]
  },
  {
   "cell_type": "code",
   "execution_count": null,
   "metadata": {},
   "outputs": [
    {
     "data": {
      "text/plain": [
       "3000.225"
      ]
     },
     "execution_count": 160,
     "metadata": {},
     "output_type": "execute_result"
    }
   ],
   "source": []
  },
  {
   "cell_type": "code",
   "execution_count": 145,
   "metadata": {},
   "outputs": [
    {
     "data": {
      "text/plain": [
       "2.182989408e-18"
      ]
     },
     "execution_count": 145,
     "metadata": {},
     "output_type": "execute_result"
    }
   ],
   "source": [
    "H0*3.24078e-20\n",
    "# test_data_raw=dTkdz(z_array)\n",
    "# test_data = scipy.interpolate.CubicSpline(test_data_raw.transpose()[0],test_data_raw.transpose()[1])"
   ]
  },
  {
   "cell_type": "code",
   "execution_count": null,
   "metadata": {},
   "outputs": [],
   "source": []
  },
  {
   "cell_type": "code",
   "execution_count": 128,
   "metadata": {},
   "outputs": [
    {
     "data": {
      "text/plain": [
       "array([2.00000000e+01, 1.25924291e+05])"
      ]
     },
     "execution_count": 128,
     "metadata": {},
     "output_type": "execute_result"
    }
   ],
   "source": [
    "test_data_raw[0]"
   ]
  },
  {
   "cell_type": "code",
   "execution_count": 122,
   "metadata": {},
   "outputs": [
    {
     "data": {
      "text/plain": [
       "57.225"
      ]
     },
     "execution_count": 122,
     "metadata": {},
     "output_type": "execute_result"
    }
   ],
   "source": [
    "T_gamma(20)"
   ]
  },
  {
   "cell_type": "code",
   "execution_count": 59,
   "metadata": {},
   "outputs": [
    {
     "data": {
      "text/plain": [
       "array([6606000.])"
      ]
     },
     "execution_count": 59,
     "metadata": {},
     "output_type": "execute_result"
    }
   ],
   "source": [
    "z=1100\n",
    "T=3000\n",
    "x_e = camb_xe\n",
    "tc=t_c\n",
    "(1/H(z)*(1+z))*(2*H(z)*T-((x_e[i])/(1+x_e[i]))*((T_gamma(z)-T)/(tc)))"
   ]
  },
  {
   "cell_type": "code",
   "execution_count": null,
   "metadata": {},
   "outputs": [
    {
     "data": {
      "text/plain": [
       "1507139.1363010467"
      ]
     },
     "execution_count": 60,
     "metadata": {},
     "output_type": "execute_result"
    }
   ],
   "source": []
  },
  {
   "cell_type": "markdown",
   "metadata": {},
   "source": [
    "### OLD STEP 1: Change ARES Cosmological Parameters."
   ]
  },
  {
   "cell_type": "code",
   "execution_count": 7,
   "metadata": {},
   "outputs": [],
   "source": [
    "cosmology=ares.ares.physics.Cosmology()"
   ]
  },
  {
   "cell_type": "code",
   "execution_count": 8,
   "metadata": {},
   "outputs": [
    {
     "ename": "KeyError",
     "evalue": "'omega_m_0'",
     "output_type": "error",
     "traceback": [
      "\u001b[0;31m---------------------------------------------------------------------------\u001b[0m",
      "\u001b[0;31mKeyError\u001b[0m                                  Traceback (most recent call last)",
      "Cell \u001b[0;32mIn[8], line 2\u001b[0m\n\u001b[1;32m      1\u001b[0m cosmology\u001b[38;5;241m.\u001b[39m_planck_raw[\u001b[38;5;124m\"\u001b[39m\u001b[38;5;124mH0\u001b[39m\u001b[38;5;124m\"\u001b[39m] \u001b[38;5;241m=\u001b[39m \u001b[38;5;241m20\u001b[39m\n\u001b[0;32m----> 2\u001b[0m cosmology\u001b[38;5;241m.\u001b[39m_planck_raw[\u001b[38;5;124m\"\u001b[39m\u001b[38;5;124momega_m_0\u001b[39m\u001b[38;5;124m\"\u001b[39m]\n",
      "\u001b[0;31mKeyError\u001b[0m: 'omega_m_0'"
     ]
    }
   ],
   "source": [
    "cosmology._planck_raw[\"H0\"] = 20\n",
    "cosmology._planck_raw[\"omega_m_0\"]"
   ]
  },
  {
   "cell_type": "code",
   "execution_count": 23,
   "metadata": {},
   "outputs": [
    {
     "data": {
      "text/plain": [
       "20"
      ]
     },
     "execution_count": 23,
     "metadata": {},
     "output_type": "execute_result"
    }
   ],
   "source": [
    "cosmology._planck_raw[\"H0\"]"
   ]
  },
  {
   "cell_type": "code",
   "execution_count": 93,
   "metadata": {},
   "outputs": [],
   "source": [
    "# let's see if we can extract cooling rates:\n",
    "cooling_rates = np.array([])\n",
    "x_vals = np.arange(1,100,0.1)\n",
    "for i in x_vals:\n",
    "    element = cosmology.cooling_rate(i)\n",
    "    cooling_rates = np.append(cooling_rates,element)"
   ]
  },
  {
   "cell_type": "code",
   "execution_count": 94,
   "metadata": {},
   "outputs": [
    {
     "data": {
      "text/plain": [
       "[<matplotlib.lines.Line2D at 0x7f03f56c3e30>]"
      ]
     },
     "execution_count": 94,
     "metadata": {},
     "output_type": "execute_result"
    },
    {
     "data": {
      "image/png": "[encoded data removed]",
      "text/plain": [
       "<Figure size 640x480 with 1 Axes>"
      ]
     },
     "metadata": {},
     "output_type": "display_data"
    }
   ],
   "source": [
    "plt.plot(x_vals,cooling_rates)"
   ]
  },
  {
   "cell_type": "markdown",
   "metadata": {},
   "source": [
    "So from here we know how to extract the cooling rates, but can we reassign these rates and have ARES run a different sim?"
   ]
  },
  {
   "cell_type": "code",
   "execution_count": 3,
   "metadata": {},
   "outputs": [
    {
     "ename": "NameError",
     "evalue": "name 'cosmo_sig' is not defined",
     "output_type": "error",
     "traceback": [
      "\u001b[0;31m---------------------------------------------------------------------------\u001b[0m",
      "\u001b[0;31mNameError\u001b[0m                                 Traceback (most recent call last)",
      "Cell \u001b[0;32mIn[3], line 2\u001b[0m\n\u001b[1;32m      1\u001b[0m get_ipython()\u001b[38;5;241m.\u001b[39mrun_line_magic(\u001b[38;5;124m'\u001b[39m\u001b[38;5;124mpinfo\u001b[39m\u001b[38;5;124m'\u001b[39m, \u001b[38;5;124m'\u001b[39m\u001b[38;5;124mares.simulations.Global21cm\u001b[39m\u001b[38;5;124m'\u001b[39m)\n\u001b[0;32m----> 2\u001b[0m cosmo_sig\u001b[38;5;241m.\u001b[39mrun()\n",
      "\u001b[0;31mNameError\u001b[0m: name 'cosmo_sig' is not defined"
     ]
    },
    {
     "name": "stdout",
     "output_type": "stream",
     "text": [
      "\u001b[0;31mInit signature:\u001b[0m \u001b[0mares\u001b[0m\u001b[0;34m.\u001b[0m\u001b[0msimulations\u001b[0m\u001b[0;34m.\u001b[0m\u001b[0mGlobal21cm\u001b[0m\u001b[0;34m(\u001b[0m\u001b[0;34m**\u001b[0m\u001b[0mkwargs\u001b[0m\u001b[0;34m)\u001b[0m\u001b[0;34m\u001b[0m\u001b[0;34m\u001b[0m\u001b[0m\n",
      "\u001b[0;31mDocstring:\u001b[0m     \n",
      "This class must be inherited by another class, which need only have the\n",
      "``pf`` attribute.\n",
      "\n",
      "The three most (only) important parameters are:\n",
      "    blob_names\n",
      "    blob_ivars\n",
      "    blob_funcs\n",
      "    \n",
      "\u001b[0;31mInit docstring:\u001b[0m\n",
      "Set up a two-zone model for the global 21-cm signal.\n",
      "\n",
      "..note :: This is essentially a MultiPhaseMedium calculation, except\n",
      "    the Lyman alpha background and 21-cm background are calculated,\n",
      "    and alternative (phenomenological) parameterizations such as a\n",
      "    tanh for the ionization, thermal, and LW background evolution,\n",
      "    may be used.\n",
      "\u001b[0;31mFile:\u001b[0m           ~/ares/ares/simulations/Global21cm.py\n",
      "\u001b[0;31mType:\u001b[0m           type\n",
      "\u001b[0;31mSubclasses:\u001b[0m     "
     ]
    }
   ],
   "source": [
    "cosmo_sig=ares.simulations.Global21cm?\n",
    "cosmo_sig.run()"
   ]
  },
  {
   "cell_type": "code",
   "execution_count": null,
   "metadata": {},
   "outputs": [
    {
     "ename": "TypeError",
     "evalue": "'Cosmology' object is not subscriptable",
     "output_type": "error",
     "traceback": [
      "\u001b[0;31m---------------------------------------------------------------------------\u001b[0m",
      "\u001b[0;31mTypeError\u001b[0m                                 Traceback (most recent call last)",
      "Cell \u001b[0;32mIn[5], line 1\u001b[0m\n\u001b[0;32m----> 1\u001b[0m cosmo_sig\u001b[38;5;241m.\u001b[39mcosm[\u001b[38;5;124m\"\u001b[39m\u001b[38;5;124mH0\u001b[39m\u001b[38;5;124m\"\u001b[39m]\n",
      "\u001b[0;31mTypeError\u001b[0m: 'Cosmology' object is not subscriptable"
     ]
    }
   ],
   "source": [
    "cosmo_sig.cosm"
   ]
  },
  {
   "cell_type": "code",
   "execution_count": 3,
   "metadata": {},
   "outputs": [],
   "source": [
    "dTb=cosmo_sig.history[\"dTb\"][10]\n",
    "z=cosmo_sig.history[\"z\"]"
   ]
  },
  {
   "cell_type": "code",
   "execution_count": null,
   "metadata": {},
   "outputs": [
    {
     "data": {
      "text/plain": [
       "-8.678422985589948e-06"
      ]
     },
     "execution_count": 4,
     "metadata": {},
     "output_type": "execute_result"
    }
   ],
   "source": [
    "# Now let's compare this to ARES:\n",
    "sim = ares.simulations.Global21cm()\n",
    "sim.run()\n",
    "ARES_redshift=sim.history[\"z\"]     # grabs ARES redshift\n",
    "ARES_dTb = sim.history[\"dTb\"]     # grabs ARES dTb\n",
    "ARES_dTb = np.delete(ARES_dTb,996)\n",
    "ARES_redshift = np.delete(ARES_redshift,996)   # this is a wierd point in ARES that stops the CubicSpline from working"
   ]
  },
  {
   "cell_type": "code",
   "execution_count": 6,
   "metadata": {},
   "outputs": [
    {
     "name": "stdout",
     "output_type": "stream",
     "text": [
      "\u001b[31mERROR: Could not find a version that satisfies the requirement pycamb (from versions: none)\u001b[0m\u001b[31m\n",
      "\u001b[0m\u001b[31mERROR: No matching distribution found for pycamb\u001b[0m\u001b[31m\n",
      "\u001b[0mNote: you may need to restart the kernel to use updated packages.\n"
     ]
    }
   ],
   "source": [
    "pip install pycamb"
   ]
  },
  {
   "cell_type": "code",
   "execution_count": 8,
   "metadata": {},
   "outputs": [],
   "source": [
    "import camb"
   ]
  },
  {
   "cell_type": "code",
   "execution_count": 9,
   "metadata": {},
   "outputs": [],
   "source": [
    "from hmf import MassFunction"
   ]
  },
  {
   "cell_type": "code",
   "execution_count": 11,
   "metadata": {},
   "outputs": [
    {
     "data": {
      "text/plain": [
       "hmf.alternatives.wdm.MassFunctionWDM"
      ]
     },
     "execution_count": 11,
     "metadata": {},
     "output_type": "execute_result"
    }
   ],
   "source": [
    "hmf.wdm.MassFunctionWDM"
   ]
  },
  {
   "cell_type": "code",
   "execution_count": 2,
   "metadata": {},
   "outputs": [],
   "source": [
    "def_kwargs = \\\n",
    "{\n",
    " \"hmf_model\": 'PS',\n",
    " \"hmf_logMmin\": 4,\n",
    " \"hmf_logMmax\": 18,\n",
    " \"hmf_dlogM\": 0.01,\n",
    "\n",
    " \"hmf_fmt\": 'hdf5',\n",
    " \"hmf_table\": None,\n",
    " \"hmf_wdm_mass\": None,\n",
    "\n",
    " #\"hmf_window\": 'sharpk',\n",
    "\n",
    " # Redshift sampling\n",
    " \"hmf_zmin\": 0.,\n",
    " \"hmf_zmax\": 60.,\n",
    " \"hmf_dz\": 0.05,\n",
    "\n",
    " # Can do constant timestep instead of constant dz\n",
    " #\"hmf_dt\": 1,\n",
    " #\"hmf_tmin\": 30.,\n",
    " #\"hmf_tmax\": 1000.,\n",
    "\n",
    " # Cosmology\n",
    " \"cosmology_id\": 'best',\n",
    " \"cosmology_name\": 'planck_TTTEEE_lowl_lowE',\n",
    "\n",
    " #HMF params and filter params are for doing Aurel Schneider's 2015 paper WDM.\n",
    " #\"hmf_params\" : {'a' : 1.0},\n",
    " #\"filter_params\" : {'c' : 2.5}\n",
    "\n",
    " #\"cosmology_id\": 'paul',\n",
    " #\"cosmology_name\": 'user',\n",
    " \"sigma_8\": 0.8159,\n",
    " 'primordial_index': 0.9652,\n",
    " 'omega_m_0': 0.315579,\n",
    " 'omega_b_0': 0.0491,\n",
    " 'hubble_0': 0.6726,\n",
    " 'omega_l_0': 1. - 0.315579,\n",
    "\n",
    "}\n",
    "\n",
    "##\n",
    "\n",
    "kwargs = def_kwargs.copy()\n",
    "\n",
    "hmf = ares.physics.HaloMassFunction(hmf_analytic=False,\n",
    "    hmf_load=False, **kwargs)"
   ]
  },
  {
   "cell_type": "code",
   "execution_count": 3,
   "metadata": {},
   "outputs": [],
   "source": [
    "import hmf"
   ]
  },
  {
   "cell_type": "code",
   "execution_count": null,
   "metadata": {},
   "outputs": [],
   "source": [
    "### I'm not going to mess with this just yet. It's a much better way to get x_e that doesn't require an outside program (all through python)\n",
    "\n",
    "#set_params is a shortcut routine for setting many things at once\n",
    "pars = camb.set_params(H0=H0, ombh2=omb*h**2, omch2=omc*h**2, As=As, ns=ns)\n",
    "data= camb.get_background(pars)\n",
    "#or as a function of redshift\n",
    "camb_xe = data.get_background_redshift_evolution(z_array, ['x_e'], format='array')\n",
    "plt.plot(z_array,back_ev)"
   ]
  },
  {
   "cell_type": "code",
   "execution_count": 101,
   "metadata": {},
   "outputs": [
    {
     "data": {
      "text/plain": [
       "(0.0, 5.0)"
      ]
     },
     "execution_count": 101,
     "metadata": {},
     "output_type": "execute_result"
    },
    {
     "data": {
      "image/png": "[encoded data removed]",
      "text/plain": [
       "<Figure size 640x480 with 1 Axes>"
      ]
     },
     "metadata": {},
     "output_type": "display_data"
    }
   ],
   "source": [
    "# Comparing Hubble flow with and without dark energy\n",
    "H2 = lambda z: (H0*3.24078e-20)*(1+z)*np.sqrt(omR0*(1+z)**2+omM0*(1+z)+omK0+(0/((1+z)**2)))\n",
    "plt.plot(np.arange(0,1000,0.1),H(np.arange(0,1000,0.1))/(H0*3.24078e-20))\n",
    "plt.plot(np.arange(0,1000,0.1),H2(np.arange(0,1000,0.1))/(H0*3.24078e-20))\n",
    "plt.xlim(0,3)\n",
    "plt.ylim(0,5)"
   ]
  },
  {
   "cell_type": "code",
   "execution_count": null,
   "metadata": {},
   "outputs": [],
   "source": []
  }
 ],
 "metadata": {
  "kernelspec": {
   "display_name": "base",
   "language": "python",
   "name": "python3"
  },
  "language_info": {
   "codemirror_mode": {
    "name": "ipython",
    "version": 3
   },
   "file_extension": ".py",
   "mimetype": "text/x-python",
   "name": "python",
   "nbconvert_exporter": "python",
   "pygments_lexer": "ipython3",
   "version": "3.12.7"
  }
 },
 "nbformat": 4,
 "nbformat_minor": 2
}
