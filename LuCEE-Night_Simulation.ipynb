{
 "cells": [
  {
   "cell_type": "markdown",
   "metadata": {},
   "source": [
    "# LuSEE-Night Simulation\n",
    "#### David W. Barker\n",
    "## Purpose\n",
    "The purpose of this notebook is to create a LuSEE-Night simulation (end-to-end). There are two primary things being done in this simulation: 1) a simulated signal and 2) a large number of simulated signals with varying parameters that create the traning sets. You then see if your training set's eigen vectors can model the arbitrary simulated signal. That's the main goal."
   ]
  },
  {
   "cell_type": "code",
   "execution_count": 1,
   "metadata": {},
   "outputs": [],
   "source": [
    "# boiler plate for most pylinex 21-cm stuff\n",
    "\n",
    "import h5py\n",
    "import numpy as np\n",
    "import matplotlib.pyplot as plt\n",
    "import scipy\n",
    "from pylinex import Fitter, BasisSum, PolynomialBasis\n",
    "import perses\n",
    "import py21cmfast as p21c\n",
    "from perses.models import PowerLawTimesPolynomialModel\n",
    "from pylinex import Basis\n",
    "import perses\n",
    "import ares\n",
    "import camb"
   ]
  },
  {
   "cell_type": "markdown",
   "metadata": {},
   "source": [
    "## The 21 cm Signal\n",
    "Our first step is to create a training set for the 21 cm signal. This should include not only differences in the cosmological parameters, but also phenomenological models of increase heating and cooling.\n",
    "\n",
    "### STEP 1: Code Up An Analytical Solution to the Dark Ages Signal.\n",
    "\n",
    "#### Step 1.1: Derive an analytical solution for the Dark Ages signal.\n",
    "We did this in our \"Derivations for Comps\" notebook, so let's repeat what we need here:\n",
    "\n",
    "- $\\delta T_{b}(\\nu)=\\frac{T_{b}(\\nu)-T_{\\gamma(\\nu)}}{1+z}$ (1)\n",
    "\n",
    "However, this is perhaps unneccesary (or very neccesary, not sure) so let's simplify to the following:\n",
    "\n",
    "- $\\delta T_{b} = T_{S} - T_{\\gamma}$ (2)\n",
    "\n",
    "where $T_{S}$ is the spin temperature and $T_{\\gamma}$ is the CMB temperature. Now lets start the process of expanding these terms out until we get to the point that we can plug in constants and code this up:\n",
    "\n",
    "- $T_{S} = \\frac{1+x_{c}}{{\\frac{1}{T_{\\gamma}}+\\frac{x_{c}}{T_{k}}}}$ (3)\n",
    "\n",
    "We have $T_{\\gamma}$:\n",
    "\n",
    "- $T_{\\gamma} = T_{\\gamma,0}(1+z) = 2.725(1+z)K $  (4)\n",
    "\n",
    "where z is our independent variable and $T_{\\gamma,0}$ = 2.725 K. Still need $x_{c}$ and $T_{k}$:\n",
    "\n",
    "- $x_{c}^{i}\\equiv \\frac{C_{10}^{i}}{A_{10}}\\frac{T_{\\star}}{T_{\\gamma}} = \\frac{n_{i}k_{10}^{i}}{A_{10}}\\frac{T_{\\star}}{T_{\\gamma}}$ (5)\n",
    "\n",
    "the i denotes the different collision species. The two we care about the most are other Hydrogen atoms and free electrons. There are other things like Helium (only ionized helium due to spin conservation) and Deuterium, but they are very minimal in their contribution. If we are way off with our calculation, this approximation doesn't seem a likely culprit, but it's good to keep in mind that it is, in fact, an approximation. So if we consider the two species:\n",
    "\n",
    "- $x_{c} = \\frac{T_{\\star}}{T_{\\gamma}A_{10}}(n_{H}\\kappa_{10}^{HH}+n_{e}\\kappa_{10}^{eH})$ (6)\n",
    "\n",
    "where $HH$ means collisions between hydrogen atoms and $eH$ means collisions between hydrogen and free electrons. We still need the $n$ 's: I don't love that I'm still ignoring Helium, even when considering number density, but I see that in the literature, so maybe it's okay to do.  If our signal is way off this might be a good place to start to correct approximations.\n",
    "\n",
    "- $n_{e} = n_{b}x_{e}$ (7)\n",
    "\n",
    "- $n_{H} = n_{b}(1-x_{e})$ (8)\n",
    "\n",
    "- $n_{b} = n_{b,0}(1+z)^{3} = 2.06 \\times 10^{-7}(1+z)^3$ $\\frac{baryons}{cm^{3}} $ (9)\n",
    "\n",
    "where $n_{b,0}=2.06 \\times 10^{-7}$ $\\frac{baryons}{cm^{3}} $ (10)\n",
    "\n",
    "We will grab $x_{e}$ from CosmoRec. Here are some important constants and formulas we know that will allow us to get to an $x_{c}$ that is actually programmable:\n",
    "\n",
    "- $A_{10} = 2.85 \\times 10^{-15}$ $s^{-1}$ (11)\n",
    "\n",
    "- $T_{\\star} = 0.068$ $K$ (12)\n",
    "\n",
    "- $\\kappa_{10}^{HH}$ will be interpolated from a table on pg. 29 of Furlanetto, et al. 2006b (13)\n",
    "\n",
    "- $\\kappa_{10}^{eH}$ will be interpolated from a table on pg. 30 of Furlanetto, et al. 2006b (14)\n",
    "\n",
    "And now we have all we need to get to something programmable:\n",
    "\n",
    "- $x_{c} = \\frac{T_{\\star}}{T_{\\gamma,0}(1+z)A_{10}}(n_{H}\\kappa_{10}^{HH}+n_{e}\\kappa_{10}^{eH})$ (15)\n",
    "\n",
    "- $T_{S} = \\frac{1+x_{c}}{{\\frac{1}{T_{\\gamma,0}(1+z)}+\\frac{x_{c}}{T_{k}}}}$ (16)\n",
    "\n",
    "- $\\frac{dT_{k}}{dt} = \\frac{x_{e}}{1+x_{e}}\\frac{(T_{\\gamma,0}(1+z)-T_{k})}{t_{c}}-2T_{k}H$ (17)\n",
    "\n",
    "For our initial test, I'm not going to bother running any code for $T_{k}$ I'm going to let CosmoRec handle that. Once wer're confident everything else works, we can add in our own $T_{k}$ calculator so that we may add some phenomenological shananigans to it later on if we desire (and also prove I understand what's going on and can code it up).\n",
    "\n",
    "Okay, so let's code up equations 2, 15, and 16, and use CosmoRec for $T_{k}$ for now and see what we get."
   ]
  },
  {
   "cell_type": "code",
   "execution_count": 16,
   "metadata": {},
   "outputs": [],
   "source": [
    "# Parameters\n",
    "H0 = 67.36     # Hubble constant\n",
    "h = 0.6736\n",
    "omm = 0.3152   # Omega matter\n",
    "omb = 0.0493   # Omega baryons\n",
    "omc = 0.2645   # Omega cold dark matter\n",
    "z_array = np.arange(20,1100)\n",
    "n_b0 = 2.06e-7   #[baryons per cubic centimeter] This actually a function of Omega baryons, but I don't want to figure that out right now (just want to prove it works first).\n",
    "T_gamma0 = 2.725   # [Kelvin] modern CMB temperature\n",
    "T_star = 0.068    # [Kelvin] the temperature equivalent of the energy difference of the 21 cm hyperfine spin states\n",
    "A_10 = 2.85e-15    # [inverse seconds] Einstein coefficient for the spontaneous emission of the hyperfine spin states\n",
    "# Less neccesary (or at least less understood by me but needed by some code)\n",
    "As = 2.099e-9  # Amplitude of a power spectrum of adiabatic perturbations\n",
    "ns = 0.9649    # Spectra index of a power spectrum of adiabatic perturbations"
   ]
  },
  {
   "cell_type": "code",
   "execution_count": 35,
   "metadata": {},
   "outputs": [],
   "source": [
    "# x_e\n",
    "# for starters, I'm just going to use CosmoRec. We'll use camb later so it's more flawlessly integrated into python\n",
    "\n",
    "CosmoRec_raw=np.genfromtxt(\"CosmoRec.dat\")\n",
    "CosmoRec_xe = scipy.interpolate.interp1d(CosmoRec_raw.transpose()[0],CosmoRec_raw.transpose()[1])   # Needs a redshift argument\n",
    "CosmoRec_Tk = scipy.interpolate.interp1d(CosmoRec_raw.transpose()[0],CosmoRec_raw.transpose()[2])   # Needs a redshift argument\n"
   ]
  },
  {
   "cell_type": "code",
   "execution_count": 58,
   "metadata": {},
   "outputs": [],
   "source": [
    "### Here is the stuff that generally doesn't change\n",
    "\n",
    "## Here are the k tables from Furlanetto 2006b\n",
    "\n",
    "k_HH_raw = np.array([[1,1.38e-13],[2,1.43e-13],[4,2.71e-13],[6,6.60e-13],[8,1.47e-12],[10,2.88e-12],[15,9.10e-12],[20,1.78e-11],[25,2.73e-11],[30,3.67e-11],[40,5.38e-11],[50,6.86e-11],[60,8.14e-11],[70,9.25e-11],\\\n",
    "                 [80,1.02e-10],[90,1.11e-10],[100,1.19e-10],[200,1.75e-10],[300,2.09e-10],[500,2.56e-10],[700,2.91e-10],[1000,3.31e-10],[2000,4.27e-10],[3000,4.97e-10],[5000,6.03e-10]])\n",
    "k_eH_raw = np.array([[1, 2.39e-10],[2,3.37e-10],[5,5.30e-10],[10,7.46e-10],[20,1.05e-9],[50,1.63e-9],[100,2.26e-9],[200,3.11e-9],[500,4.59e-9],[1000,5.92e-9],[2000,7.15e-9],[3000,7.71e-9],[5000,8.17e-9]])\n",
    "\n",
    "# let's write a function that interpolates this table given whatever value we put in.\n",
    "k_HH = scipy.interpolate.CubicSpline(k_HH_raw.transpose()[0],k_HH_raw.transpose()[1])   # Needs a temperature (or array of temps) as an argument\n",
    "k_eH = scipy.interpolate.CubicSpline(k_eH_raw.transpose()[0],k_eH_raw.transpose()[1])   # Needs a temperature (or array of temps) as an argument\n",
    "\n",
    "## n_H and n_e\n",
    "\n",
    "n_H = lambda z,x_e: n_b0*(1+z)**3*(1-x_e(z))\n",
    "n_e = lambda z,x_e: n_b0*(1+z)**3*(x_e(z))\n"
   ]
  },
  {
   "cell_type": "code",
   "execution_count": 59,
   "metadata": {},
   "outputs": [],
   "source": [
    "# x_c\n",
    "x_c = lambda z,x_e,T_k: (T_star)/(T_gamma0*(1+z)*A_10)*(n_H(z,x_e)*k_HH(T_k(z)+n_e(z,x_e)))"
   ]
  },
  {
   "cell_type": "code",
   "execution_count": 60,
   "metadata": {},
   "outputs": [],
   "source": [
    "# T_S\n",
    "\n",
    "T_S = lambda z,x_e,T_k: (1+x_c(z,x_e,T_k))/((1/(T_gamma0*(1+z)))+(x_c(z,x_e,T_k)/T_k(z)))"
   ]
  },
  {
   "cell_type": "code",
   "execution_count": null,
   "metadata": {},
   "outputs": [],
   "source": []
  },
  {
   "cell_type": "code",
   "execution_count": 93,
   "metadata": {},
   "outputs": [],
   "source": [
    "# Let's clean this up later, but this is the actual difference from the CMB with the optical depth included\n",
    "\n",
    "db = lambda z,x_e,T_k: 27*(1-x_e(z))*((h**2*omb)/(0.023))*((0.15)/(h**2*omm))*((1+z)/(10))**(1/2)*(1-((T_gamma0*(1+z))/(T_S(z,x_e,T_k))))"
   ]
  },
  {
   "cell_type": "code",
   "execution_count": null,
   "metadata": {},
   "outputs": [],
   "source": [
    "frequencies_ares=np.delete(frequencies_ares,996)\n",
    "dTb = np.delete(dTb,996)\n",
    "import scipy\n",
    "test_data=scipy.interpolate.CubicSpline(frequencies_ares,dTb)(np.arange(3,200))"
   ]
  },
  {
   "cell_type": "code",
   "execution_count": 89,
   "metadata": {},
   "outputs": [
    {
     "data": {
      "text/plain": [
       "array([-0.37312641, -0.52314208, -0.72010838, ..., -0.00279423,\n",
       "       -0.00276155, -0.0027282 ])"
      ]
     },
     "execution_count": 89,
     "metadata": {},
     "output_type": "execute_result"
    }
   ],
   "source": [
    "db(z_array,CosmoRec_xe,CosmoRec_Tk)"
   ]
  },
  {
   "cell_type": "code",
   "execution_count": 97,
   "metadata": {},
   "outputs": [
    {
     "data": {
      "image/png": "[encoded data removed]",
      "text/plain": [
       "<Figure size 640x480 with 1 Axes>"
      ]
     },
     "metadata": {},
     "output_type": "display_data"
    }
   ],
   "source": [
    "plt.plot(z_array,db(z_array,CosmoRec_xe,CosmoRec_Tk))\n",
    "plt.axvline(85)\n",
    "plt.xscale(\"log\")"
   ]
  },
  {
   "cell_type": "code",
   "execution_count": 68,
   "metadata": {},
   "outputs": [
    {
     "data": {
      "text/plain": [
       "3000.19226369128"
      ]
     },
     "execution_count": 68,
     "metadata": {},
     "output_type": "execute_result"
    }
   ],
   "source": [
    "T_S(1100,CosmoRec_xe,CosmoRec_Tk)"
   ]
  },
  {
   "cell_type": "code",
   "execution_count": 69,
   "metadata": {},
   "outputs": [
    {
     "data": {
      "text/plain": [
       "3000.225"
      ]
     },
     "execution_count": 69,
     "metadata": {},
     "output_type": "execute_result"
    }
   ],
   "source": [
    "T_gamma0*(1+1100)"
   ]
  },
  {
   "cell_type": "code",
   "execution_count": 65,
   "metadata": {},
   "outputs": [
    {
     "data": {
      "text/plain": [
       "array([1.80482259e-03, 2.60946505e-03, 3.70111713e-03, ...,\n",
       "       9.32122395e+02, 9.32715132e+02, 9.33293584e+02])"
      ]
     },
     "execution_count": 65,
     "metadata": {},
     "output_type": "execute_result"
    }
   ],
   "source": [
    "x_c(z_array,CosmoRec_xe,CosmoRec_Tk)"
   ]
  },
  {
   "cell_type": "code",
   "execution_count": 19,
   "metadata": {},
   "outputs": [
    {
     "data": {
      "text/plain": [
       "[<matplotlib.lines.Line2D at 0x7fd31cb33020>]"
      ]
     },
     "execution_count": 19,
     "metadata": {},
     "output_type": "execute_result"
    },
    {
     "data": {
      "image/png": "[encoded data removed]",
      "text/plain": [
       "<Figure size 640x480 with 1 Axes>"
      ]
     },
     "metadata": {},
     "output_type": "display_data"
    }
   ],
   "source": [
    "plt.plot(z_array,T_S(z_array,CosmoRec_xe,CosmoRec_Tk))"
   ]
  },
  {
   "cell_type": "code",
   "execution_count": null,
   "metadata": {},
   "outputs": [
    {
     "data": {
      "text/plain": [
       "0.0003333119769239319"
      ]
     },
     "execution_count": 125,
     "metadata": {},
     "output_type": "execute_result"
    }
   ],
   "source": [
    "/CosmoRec_Tk(1100)"
   ]
  },
  {
   "cell_type": "code",
   "execution_count": 24,
   "metadata": {},
   "outputs": [],
   "source": [
    "# This CosmoRec file is a temporary use. I'm not going to calculate T_k yet. I'll use something that I know is right first.  This also includes x_e.\n",
    "CosmoRec=np.genfromtxt(\"CosmoRec.dat\")\n"
   ]
  },
  {
   "cell_type": "code",
   "execution_count": 86,
   "metadata": {},
   "outputs": [],
   "source": [
    "# x_c\n"
   ]
  },
  {
   "cell_type": "code",
   "execution_count": 23,
   "metadata": {},
   "outputs": [
    {
     "data": {
      "image/png": "[encoded data removed]",
      "text/plain": [
       "<Figure size 1200x500 with 2 Axes>"
      ]
     },
     "metadata": {},
     "output_type": "display_data"
    }
   ],
   "source": [
    "### I'm not going to mess with this just yet. It's a much better way to get x_e that doesn't require an outside program (all through python)\n",
    "\n",
    "#set_params is a shortcut routine for setting many things at once\n",
    "pars = camb.set_params(H0=H0, ombh2=omb*h**2, omch2=omc*h**2, As=As, ns=ns)\n",
    "data= camb.get_background(pars)\n",
    "#or as a function of redshift\n",
    "z = 10**np.linspace(2, 4, 300)\n",
    "back_ev = data.get_background_redshift_evolution(z, ['x_e', 'visibility'], format='array')\n",
    "fig, axs= plt.subplots(1,2, figsize=(12,5))\n",
    "for i, (ax, label), in enumerate(zip(axs, ['$x_e$','Visibility'])):\n",
    "    ax.semilogx(z, back_ev[:,i])\n",
    "    ax.set_xlabel('$z$')\n",
    "    ax.set_ylabel(label)\n",
    "    ax.set_xlim([500,1e4])"
   ]
  },
  {
   "cell_type": "code",
   "execution_count": 13,
   "metadata": {},
   "outputs": [
    {
     "name": "stdout",
     "output_type": "stream",
     "text": [
      "\u001b[0;31mType:\u001b[0m        dict\n",
      "\u001b[0;31mString form:\u001b[0m\n",
      "{'x_e': array([1.16403355e+00, 1.16403355e+00, 1.16403355e+00, 1.16403355e+00,\n",
      "           1.16403355e <...> 722e-06, 3.43386333e-06,\n",
      "           3.12838420e-06, 2.84811249e-06, 2.59094633e-06, 2.35495051e-06])}\n",
      "\u001b[0;31mLength:\u001b[0m      2\n",
      "\u001b[0;31mDocstring:\u001b[0m  \n",
      "dict() -> new empty dictionary\n",
      "dict(mapping) -> new dictionary initialized from a mapping object's\n",
      "    (key, value) pairs\n",
      "dict(iterable) -> new dictionary initialized as if via:\n",
      "    d = {}\n",
      "    for k, v in iterable:\n",
      "        d[k] = v\n",
      "dict(**kwargs) -> new dictionary initialized with the name=value pairs\n",
      "    in the keyword argument list.  For example:  dict(one=1, two=2)"
     ]
    }
   ],
   "source": [
    "back_ev?"
   ]
  },
  {
   "cell_type": "markdown",
   "metadata": {},
   "source": [
    "### OLD STEP 1: Change ARES Cosmological Parameters."
   ]
  },
  {
   "cell_type": "code",
   "execution_count": 7,
   "metadata": {},
   "outputs": [],
   "source": [
    "cosmology=ares.ares.physics.Cosmology()"
   ]
  },
  {
   "cell_type": "code",
   "execution_count": 8,
   "metadata": {},
   "outputs": [
    {
     "ename": "KeyError",
     "evalue": "'omega_m_0'",
     "output_type": "error",
     "traceback": [
      "\u001b[0;31m---------------------------------------------------------------------------\u001b[0m",
      "\u001b[0;31mKeyError\u001b[0m                                  Traceback (most recent call last)",
      "Cell \u001b[0;32mIn[8], line 2\u001b[0m\n\u001b[1;32m      1\u001b[0m cosmology\u001b[38;5;241m.\u001b[39m_planck_raw[\u001b[38;5;124m\"\u001b[39m\u001b[38;5;124mH0\u001b[39m\u001b[38;5;124m\"\u001b[39m] \u001b[38;5;241m=\u001b[39m \u001b[38;5;241m20\u001b[39m\n\u001b[0;32m----> 2\u001b[0m cosmology\u001b[38;5;241m.\u001b[39m_planck_raw[\u001b[38;5;124m\"\u001b[39m\u001b[38;5;124momega_m_0\u001b[39m\u001b[38;5;124m\"\u001b[39m]\n",
      "\u001b[0;31mKeyError\u001b[0m: 'omega_m_0'"
     ]
    }
   ],
   "source": [
    "cosmology._planck_raw[\"H0\"] = 20\n",
    "cosmology._planck_raw[\"omega_m_0\"]"
   ]
  },
  {
   "cell_type": "code",
   "execution_count": 23,
   "metadata": {},
   "outputs": [
    {
     "data": {
      "text/plain": [
       "20"
      ]
     },
     "execution_count": 23,
     "metadata": {},
     "output_type": "execute_result"
    }
   ],
   "source": [
    "cosmology._planck_raw[\"H0\"]"
   ]
  },
  {
   "cell_type": "code",
   "execution_count": 93,
   "metadata": {},
   "outputs": [],
   "source": [
    "# let's see if we can extract cooling rates:\n",
    "cooling_rates = np.array([])\n",
    "x_vals = np.arange(1,100,0.1)\n",
    "for i in x_vals:\n",
    "    element = cosmology.cooling_rate(i)\n",
    "    cooling_rates = np.append(cooling_rates,element)"
   ]
  },
  {
   "cell_type": "code",
   "execution_count": 94,
   "metadata": {},
   "outputs": [
    {
     "data": {
      "text/plain": [
       "[<matplotlib.lines.Line2D at 0x7f03f56c3e30>]"
      ]
     },
     "execution_count": 94,
     "metadata": {},
     "output_type": "execute_result"
    },
    {
     "data": {
      "image/png": "[encoded data removed]",
      "text/plain": [
       "<Figure size 640x480 with 1 Axes>"
      ]
     },
     "metadata": {},
     "output_type": "display_data"
    }
   ],
   "source": [
    "plt.plot(x_vals,cooling_rates)"
   ]
  },
  {
   "cell_type": "markdown",
   "metadata": {},
   "source": [
    "So from here we know how to extract the cooling rates, but can we reassign these rates and have ARES run a different sim?"
   ]
  },
  {
   "cell_type": "code",
   "execution_count": 3,
   "metadata": {},
   "outputs": [
    {
     "ename": "NameError",
     "evalue": "name 'cosmo_sig' is not defined",
     "output_type": "error",
     "traceback": [
      "\u001b[0;31m---------------------------------------------------------------------------\u001b[0m",
      "\u001b[0;31mNameError\u001b[0m                                 Traceback (most recent call last)",
      "Cell \u001b[0;32mIn[3], line 2\u001b[0m\n\u001b[1;32m      1\u001b[0m get_ipython()\u001b[38;5;241m.\u001b[39mrun_line_magic(\u001b[38;5;124m'\u001b[39m\u001b[38;5;124mpinfo\u001b[39m\u001b[38;5;124m'\u001b[39m, \u001b[38;5;124m'\u001b[39m\u001b[38;5;124mares.simulations.Global21cm\u001b[39m\u001b[38;5;124m'\u001b[39m)\n\u001b[0;32m----> 2\u001b[0m cosmo_sig\u001b[38;5;241m.\u001b[39mrun()\n",
      "\u001b[0;31mNameError\u001b[0m: name 'cosmo_sig' is not defined"
     ]
    },
    {
     "name": "stdout",
     "output_type": "stream",
     "text": [
      "\u001b[0;31mInit signature:\u001b[0m \u001b[0mares\u001b[0m\u001b[0;34m.\u001b[0m\u001b[0msimulations\u001b[0m\u001b[0;34m.\u001b[0m\u001b[0mGlobal21cm\u001b[0m\u001b[0;34m(\u001b[0m\u001b[0;34m**\u001b[0m\u001b[0mkwargs\u001b[0m\u001b[0;34m)\u001b[0m\u001b[0;34m\u001b[0m\u001b[0;34m\u001b[0m\u001b[0m\n",
      "\u001b[0;31mDocstring:\u001b[0m     \n",
      "This class must be inherited by another class, which need only have the\n",
      "``pf`` attribute.\n",
      "\n",
      "The three most (only) important parameters are:\n",
      "    blob_names\n",
      "    blob_ivars\n",
      "    blob_funcs\n",
      "    \n",
      "\u001b[0;31mInit docstring:\u001b[0m\n",
      "Set up a two-zone model for the global 21-cm signal.\n",
      "\n",
      "..note :: This is essentially a MultiPhaseMedium calculation, except\n",
      "    the Lyman alpha background and 21-cm background are calculated,\n",
      "    and alternative (phenomenological) parameterizations such as a\n",
      "    tanh for the ionization, thermal, and LW background evolution,\n",
      "    may be used.\n",
      "\u001b[0;31mFile:\u001b[0m           ~/ares/ares/simulations/Global21cm.py\n",
      "\u001b[0;31mType:\u001b[0m           type\n",
      "\u001b[0;31mSubclasses:\u001b[0m     "
     ]
    }
   ],
   "source": [
    "cosmo_sig=ares.simulations.Global21cm?\n",
    "cosmo_sig.run()"
   ]
  },
  {
   "cell_type": "code",
   "execution_count": null,
   "metadata": {},
   "outputs": [
    {
     "ename": "TypeError",
     "evalue": "'Cosmology' object is not subscriptable",
     "output_type": "error",
     "traceback": [
      "\u001b[0;31m---------------------------------------------------------------------------\u001b[0m",
      "\u001b[0;31mTypeError\u001b[0m                                 Traceback (most recent call last)",
      "Cell \u001b[0;32mIn[5], line 1\u001b[0m\n\u001b[0;32m----> 1\u001b[0m cosmo_sig\u001b[38;5;241m.\u001b[39mcosm[\u001b[38;5;124m\"\u001b[39m\u001b[38;5;124mH0\u001b[39m\u001b[38;5;124m\"\u001b[39m]\n",
      "\u001b[0;31mTypeError\u001b[0m: 'Cosmology' object is not subscriptable"
     ]
    }
   ],
   "source": [
    "cosmo_sig.cosm"
   ]
  },
  {
   "cell_type": "code",
   "execution_count": 3,
   "metadata": {},
   "outputs": [],
   "source": [
    "dTb=cosmo_sig.history[\"dTb\"][10]\n",
    "z=cosmo_sig.history[\"z\"]"
   ]
  },
  {
   "cell_type": "code",
   "execution_count": 4,
   "metadata": {},
   "outputs": [
    {
     "data": {
      "text/plain": [
       "-8.678422985589948e-06"
      ]
     },
     "execution_count": 4,
     "metadata": {},
     "output_type": "execute_result"
    }
   ],
   "source": [
    "dTb"
   ]
  },
  {
   "cell_type": "code",
   "execution_count": 6,
   "metadata": {},
   "outputs": [
    {
     "name": "stdout",
     "output_type": "stream",
     "text": [
      "\u001b[31mERROR: Could not find a version that satisfies the requirement pycamb (from versions: none)\u001b[0m\u001b[31m\n",
      "\u001b[0m\u001b[31mERROR: No matching distribution found for pycamb\u001b[0m\u001b[31m\n",
      "\u001b[0mNote: you may need to restart the kernel to use updated packages.\n"
     ]
    }
   ],
   "source": [
    "pip install pycamb"
   ]
  },
  {
   "cell_type": "code",
   "execution_count": 8,
   "metadata": {},
   "outputs": [],
   "source": [
    "import camb"
   ]
  },
  {
   "cell_type": "code",
   "execution_count": 9,
   "metadata": {},
   "outputs": [],
   "source": [
    "from hmf import MassFunction"
   ]
  },
  {
   "cell_type": "code",
   "execution_count": 11,
   "metadata": {},
   "outputs": [
    {
     "data": {
      "text/plain": [
       "hmf.alternatives.wdm.MassFunctionWDM"
      ]
     },
     "execution_count": 11,
     "metadata": {},
     "output_type": "execute_result"
    }
   ],
   "source": [
    "hmf.wdm.MassFunctionWDM"
   ]
  },
  {
   "cell_type": "code",
   "execution_count": 2,
   "metadata": {},
   "outputs": [],
   "source": [
    "def_kwargs = \\\n",
    "{\n",
    " \"hmf_model\": 'PS',\n",
    " \"hmf_logMmin\": 4,\n",
    " \"hmf_logMmax\": 18,\n",
    " \"hmf_dlogM\": 0.01,\n",
    "\n",
    " \"hmf_fmt\": 'hdf5',\n",
    " \"hmf_table\": None,\n",
    " \"hmf_wdm_mass\": None,\n",
    "\n",
    " #\"hmf_window\": 'sharpk',\n",
    "\n",
    " # Redshift sampling\n",
    " \"hmf_zmin\": 0.,\n",
    " \"hmf_zmax\": 60.,\n",
    " \"hmf_dz\": 0.05,\n",
    "\n",
    " # Can do constant timestep instead of constant dz\n",
    " #\"hmf_dt\": 1,\n",
    " #\"hmf_tmin\": 30.,\n",
    " #\"hmf_tmax\": 1000.,\n",
    "\n",
    " # Cosmology\n",
    " \"cosmology_id\": 'best',\n",
    " \"cosmology_name\": 'planck_TTTEEE_lowl_lowE',\n",
    "\n",
    " #HMF params and filter params are for doing Aurel Schneider's 2015 paper WDM.\n",
    " #\"hmf_params\" : {'a' : 1.0},\n",
    " #\"filter_params\" : {'c' : 2.5}\n",
    "\n",
    " #\"cosmology_id\": 'paul',\n",
    " #\"cosmology_name\": 'user',\n",
    " \"sigma_8\": 0.8159,\n",
    " 'primordial_index': 0.9652,\n",
    " 'omega_m_0': 0.315579,\n",
    " 'omega_b_0': 0.0491,\n",
    " 'hubble_0': 0.6726,\n",
    " 'omega_l_0': 1. - 0.315579,\n",
    "\n",
    "}\n",
    "\n",
    "##\n",
    "\n",
    "kwargs = def_kwargs.copy()\n",
    "\n",
    "hmf = ares.physics.HaloMassFunction(hmf_analytic=False,\n",
    "    hmf_load=False, **kwargs)"
   ]
  },
  {
   "cell_type": "code",
   "execution_count": 3,
   "metadata": {},
   "outputs": [],
   "source": [
    "import hmf"
   ]
  },
  {
   "cell_type": "code",
   "execution_count": null,
   "metadata": {},
   "outputs": [],
   "source": []
  }
 ],
 "metadata": {
  "kernelspec": {
   "display_name": "base",
   "language": "python",
   "name": "python3"
  },
  "language_info": {
   "codemirror_mode": {
    "name": "ipython",
    "version": 3
   },
   "file_extension": ".py",
   "mimetype": "text/x-python",
   "name": "python",
   "nbconvert_exporter": "python",
   "pygments_lexer": "ipython3",
   "version": "3.12.7"
  }
 },
 "nbformat": 4,
 "nbformat_minor": 2
}
